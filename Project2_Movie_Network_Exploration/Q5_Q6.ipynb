{
 "cells": [
  {
   "cell_type": "markdown",
   "metadata": {},
   "source": [
    "# Question 5"
   ]
  },
  {
   "cell_type": "code",
   "execution_count": 435,
   "metadata": {
    "collapsed": true
   },
   "outputs": [],
   "source": [
    "import numpy as np\n",
    "import pandas as pd\n",
    "import igraph\n",
    "from igraph import *"
   ]
  },
  {
   "cell_type": "code",
   "execution_count": 3,
   "metadata": {
    "collapsed": true
   },
   "outputs": [],
   "source": [
    "movie_graph = read(\"movie_pairs.csv\",format = \"ncol\", weights = True, directed = False)\n",
    "#movie_graph.es.attribute_names()"
   ]
  },
  {
   "cell_type": "code",
   "execution_count": 4,
   "metadata": {
    "collapsed": false
   },
   "outputs": [
    {
     "name": "stdout",
     "output_type": "stream",
     "text": [
      "CPU times: user 3h 48min 41s, sys: 26 s, total: 3h 49min 7s\n",
      "Wall time: 3h 49min 11s\n"
     ]
    }
   ],
   "source": [
    "%%time\n",
    "communities = movie_graph.community_fastgreedy(weights=movie_graph.es['weight'])"
   ]
  },
  {
   "cell_type": "code",
   "execution_count": 436,
   "metadata": {
    "collapsed": false
   },
   "outputs": [],
   "source": [
    "movie_count = pd.read_csv(\"movie_count.csv\",header = None,names=[\"movie\",\"count\",\"id\"])"
   ]
  },
  {
   "cell_type": "code",
   "execution_count": 437,
   "metadata": {
    "collapsed": false
   },
   "outputs": [
    {
     "data": {
      "text/html": [
       "<div>\n",
       "<table border=\"1\" class=\"dataframe\">\n",
       "  <thead>\n",
       "    <tr style=\"text-align: right;\">\n",
       "      <th></th>\n",
       "      <th>movie</th>\n",
       "      <th>count</th>\n",
       "      <th>id</th>\n",
       "    </tr>\n",
       "  </thead>\n",
       "  <tbody>\n",
       "    <tr>\n",
       "      <th>0</th>\n",
       "      <td>10 Attitudes (2001)</td>\n",
       "      <td>12</td>\n",
       "      <td>0</td>\n",
       "    </tr>\n",
       "    <tr>\n",
       "      <th>1</th>\n",
       "      <td>101 Reykjav�k (2000)</td>\n",
       "      <td>11</td>\n",
       "      <td>1</td>\n",
       "    </tr>\n",
       "    <tr>\n",
       "      <th>2</th>\n",
       "      <td>12 Years a Slave (2013)  (uncredited)</td>\n",
       "      <td>20</td>\n",
       "      <td>2</td>\n",
       "    </tr>\n",
       "  </tbody>\n",
       "</table>\n",
       "</div>"
      ],
      "text/plain": [
       "                                   movie  count  id\n",
       "0                    10 Attitudes (2001)     12   0\n",
       "1                   101 Reykjav�k (2000)     11   1\n",
       "2  12 Years a Slave (2013)  (uncredited)     20   2"
      ]
     },
     "execution_count": 437,
     "metadata": {},
     "output_type": "execute_result"
    }
   ],
   "source": [
    "movie_count.head(3)"
   ]
  },
  {
   "cell_type": "code",
   "execution_count": 440,
   "metadata": {
    "collapsed": false
   },
   "outputs": [],
   "source": [
    "movie_genre = pd.read_csv(\"movie_genre.txt\",sep = \"\\t\",header = None, names= [\"movie\",\"1\",\"genre\"])\n",
    "movie_genre = movie_genre.drop(\"1\",axis=1)"
   ]
  },
  {
   "cell_type": "code",
   "execution_count": 444,
   "metadata": {
    "collapsed": false
   },
   "outputs": [
    {
     "name": "stdout",
     "output_type": "stream",
     "text": [
      "98749\n",
      "1010991\n"
     ]
    }
   ],
   "source": [
    "print len(movie_count)\n",
    "print len(movie_genre)"
   ]
  },
  {
   "cell_type": "code",
   "execution_count": 55,
   "metadata": {
    "collapsed": false
   },
   "outputs": [
    {
     "data": {
      "text/plain": [
       "24"
      ]
     },
     "execution_count": 55,
     "metadata": {},
     "output_type": "execute_result"
    }
   ],
   "source": [
    "communities.optimal_count # number of communities"
   ]
  },
  {
   "cell_type": "code",
   "execution_count": 453,
   "metadata": {
    "collapsed": false
   },
   "outputs": [
    {
     "name": "stdout",
     "output_type": "stream",
     "text": [
      "[ 0  1  2  3  4  5  6  7  8  9 10 11 12 13 14 15 16 17 18 19 20 21 22 23]\n"
     ]
    },
    {
     "data": {
      "text/html": [
       "<div>\n",
       "<table border=\"1\" class=\"dataframe\">\n",
       "  <thead>\n",
       "    <tr style=\"text-align: right;\">\n",
       "      <th></th>\n",
       "      <th>id</th>\n",
       "      <th>membership</th>\n",
       "    </tr>\n",
       "  </thead>\n",
       "  <tbody>\n",
       "    <tr>\n",
       "      <th>0</th>\n",
       "      <td>4</td>\n",
       "      <td>0</td>\n",
       "    </tr>\n",
       "    <tr>\n",
       "      <th>1</th>\n",
       "      <td>17</td>\n",
       "      <td>0</td>\n",
       "    </tr>\n",
       "    <tr>\n",
       "      <th>2</th>\n",
       "      <td>13</td>\n",
       "      <td>1</td>\n",
       "    </tr>\n",
       "    <tr>\n",
       "      <th>3</th>\n",
       "      <td>19</td>\n",
       "      <td>1</td>\n",
       "    </tr>\n",
       "    <tr>\n",
       "      <th>4</th>\n",
       "      <td>7</td>\n",
       "      <td>2</td>\n",
       "    </tr>\n",
       "  </tbody>\n",
       "</table>\n",
       "</div>"
      ],
      "text/plain": [
       "   id  membership\n",
       "0   4           0\n",
       "1  17           0\n",
       "2  13           1\n",
       "3  19           1\n",
       "4   7           2"
      ]
     },
     "execution_count": 453,
     "metadata": {},
     "output_type": "execute_result"
    }
   ],
   "source": [
    "clusters = communities.as_clustering()\n",
    "comm_membership = clusters.membership\n",
    "total_clusters=np.unique(comm_membership)\n",
    "print total_clusters\n",
    "\n",
    "movie_vertices_id=movie_graph.vs['name']\n",
    "vertex_id_membership=pd.DataFrame({\"id\":movie_vertices_id,\"membership\":comm_membership})\n",
    "vertex_id_membership.id = vertex_id_membership.id.astype(np.int64)\n",
    "vertex_id_membership.head(5)"
   ]
  },
  {
   "cell_type": "code",
   "execution_count": 452,
   "metadata": {
    "collapsed": false
   },
   "outputs": [
    {
     "data": {
      "text/html": [
       "<div>\n",
       "<table border=\"1\" class=\"dataframe\">\n",
       "  <thead>\n",
       "    <tr style=\"text-align: right;\">\n",
       "      <th></th>\n",
       "      <th>movie</th>\n",
       "      <th>count</th>\n",
       "      <th>id</th>\n",
       "    </tr>\n",
       "  </thead>\n",
       "  <tbody>\n",
       "    <tr>\n",
       "      <th>0</th>\n",
       "      <td>10 Attitudes (2001)</td>\n",
       "      <td>12</td>\n",
       "      <td>0</td>\n",
       "    </tr>\n",
       "    <tr>\n",
       "      <th>1</th>\n",
       "      <td>101 Reykjav�k (2000)</td>\n",
       "      <td>11</td>\n",
       "      <td>1</td>\n",
       "    </tr>\n",
       "    <tr>\n",
       "      <th>2</th>\n",
       "      <td>12 Years a Slave (2013)  (uncredited)</td>\n",
       "      <td>20</td>\n",
       "      <td>2</td>\n",
       "    </tr>\n",
       "    <tr>\n",
       "      <th>3</th>\n",
       "      <td>22 Jump Street (2014)</td>\n",
       "      <td>22</td>\n",
       "      <td>3</td>\n",
       "    </tr>\n",
       "    <tr>\n",
       "      <th>4</th>\n",
       "      <td>45 Fathers (1937)  (uncredited)</td>\n",
       "      <td>29</td>\n",
       "      <td>4</td>\n",
       "    </tr>\n",
       "  </tbody>\n",
       "</table>\n",
       "</div>"
      ],
      "text/plain": [
       "                                   movie  count  id\n",
       "0                    10 Attitudes (2001)     12   0\n",
       "1                   101 Reykjav�k (2000)     11   1\n",
       "2  12 Years a Slave (2013)  (uncredited)     20   2\n",
       "3                  22 Jump Street (2014)     22   3\n",
       "4        45 Fathers (1937)  (uncredited)     29   4"
      ]
     },
     "execution_count": 452,
     "metadata": {},
     "output_type": "execute_result"
    }
   ],
   "source": [
    "movie_count.head(5)"
   ]
  },
  {
   "cell_type": "code",
   "execution_count": 454,
   "metadata": {
    "collapsed": false
   },
   "outputs": [],
   "source": [
    "movie_id_membership = movie_count.join(vertex_id_membership.set_index(\"id\"),on=\"id\",how = \"inner\")"
   ]
  },
  {
   "cell_type": "code",
   "execution_count": 455,
   "metadata": {
    "collapsed": false
   },
   "outputs": [
    {
     "data": {
      "text/html": [
       "<div>\n",
       "<table border=\"1\" class=\"dataframe\">\n",
       "  <thead>\n",
       "    <tr style=\"text-align: right;\">\n",
       "      <th></th>\n",
       "      <th>movie</th>\n",
       "      <th>count</th>\n",
       "      <th>id</th>\n",
       "      <th>membership</th>\n",
       "    </tr>\n",
       "  </thead>\n",
       "  <tbody>\n",
       "    <tr>\n",
       "      <th>0</th>\n",
       "      <td>10 Attitudes (2001)</td>\n",
       "      <td>12</td>\n",
       "      <td>0</td>\n",
       "      <td>6</td>\n",
       "    </tr>\n",
       "    <tr>\n",
       "      <th>1</th>\n",
       "      <td>101 Reykjav�k (2000)</td>\n",
       "      <td>11</td>\n",
       "      <td>1</td>\n",
       "      <td>5</td>\n",
       "    </tr>\n",
       "    <tr>\n",
       "      <th>2</th>\n",
       "      <td>12 Years a Slave (2013)  (uncredited)</td>\n",
       "      <td>20</td>\n",
       "      <td>2</td>\n",
       "      <td>6</td>\n",
       "    </tr>\n",
       "    <tr>\n",
       "      <th>3</th>\n",
       "      <td>22 Jump Street (2014)</td>\n",
       "      <td>22</td>\n",
       "      <td>3</td>\n",
       "      <td>6</td>\n",
       "    </tr>\n",
       "  </tbody>\n",
       "</table>\n",
       "</div>"
      ],
      "text/plain": [
       "                                   movie  count  id  membership\n",
       "0                    10 Attitudes (2001)     12   0           6\n",
       "1                   101 Reykjav�k (2000)     11   1           5\n",
       "2  12 Years a Slave (2013)  (uncredited)     20   2           6\n",
       "3                  22 Jump Street (2014)     22   3           6"
      ]
     },
     "execution_count": 455,
     "metadata": {},
     "output_type": "execute_result"
    }
   ],
   "source": [
    "movie_id_membership.head(4)"
   ]
  },
  {
   "cell_type": "code",
   "execution_count": 245,
   "metadata": {
    "collapsed": false
   },
   "outputs": [
    {
     "data": {
      "text/plain": [
       "98748"
      ]
     },
     "execution_count": 245,
     "metadata": {},
     "output_type": "execute_result"
    }
   ],
   "source": [
    "len(movie_id_membership)"
   ]
  },
  {
   "cell_type": "code",
   "execution_count": 121,
   "metadata": {
    "collapsed": false
   },
   "outputs": [
    {
     "data": {
      "text/html": [
       "<div>\n",
       "<table border=\"1\" class=\"dataframe\">\n",
       "  <thead>\n",
       "    <tr style=\"text-align: right;\">\n",
       "      <th></th>\n",
       "      <th>movie</th>\n",
       "      <th>genre</th>\n",
       "    </tr>\n",
       "  </thead>\n",
       "  <tbody>\n",
       "    <tr>\n",
       "      <th>0</th>\n",
       "      <td>Hearts of Iron (2002)</td>\n",
       "      <td>Adventure</td>\n",
       "    </tr>\n",
       "    <tr>\n",
       "      <th>1</th>\n",
       "      <td>Behind Stone Walls (1932)</td>\n",
       "      <td>Romance</td>\n",
       "    </tr>\n",
       "    <tr>\n",
       "      <th>2</th>\n",
       "      <td>Three Doors Down and Daughtry Live (2012)</td>\n",
       "      <td>Music</td>\n",
       "    </tr>\n",
       "    <tr>\n",
       "      <th>3</th>\n",
       "      <td>Super Seniors (2008)</td>\n",
       "      <td>Short</td>\n",
       "    </tr>\n",
       "  </tbody>\n",
       "</table>\n",
       "</div>"
      ],
      "text/plain": [
       "                                       movie      genre\n",
       "0                      Hearts of Iron (2002)  Adventure\n",
       "1                  Behind Stone Walls (1932)    Romance\n",
       "2  Three Doors Down and Daughtry Live (2012)      Music\n",
       "3                       Super Seniors (2008)      Short"
      ]
     },
     "execution_count": 121,
     "metadata": {},
     "output_type": "execute_result"
    }
   ],
   "source": [
    "movie_genre.head(4)"
   ]
  },
  {
   "cell_type": "code",
   "execution_count": 466,
   "metadata": {
    "collapsed": false
   },
   "outputs": [],
   "source": [
    "movie_genre[\"Newname\"]=movie_genre[\"movie\"].map(lambda x:x.decode(\"unicode_escape\").encode(\"ascii\",\"ignore\"))\n",
    "#movie_genre.head(100)"
   ]
  },
  {
   "cell_type": "code",
   "execution_count": 456,
   "metadata": {
    "collapsed": false
   },
   "outputs": [],
   "source": [
    "id_genre = movie_id_membership.merge(movie_genre, left_on=\"movie\", right_on=\"movie\",how = \"left\")"
   ]
  },
  {
   "cell_type": "code",
   "execution_count": 468,
   "metadata": {
    "collapsed": false
   },
   "outputs": [],
   "source": [
    "def movie_subname(name):\n",
    "    newname=name.decode(\"unicode_escape\").encode(\"ascii\",\"ignore\")\n",
    "    end=newname.find('(uncredited)')\n",
    "    if (end>0):\n",
    "        return newname[0:end].strip()\n",
    "    else:\n",
    "        return newname\n",
    "def movie_subname2(name):\n",
    "    newname=name.decode(\"unicode_escape\").encode(\"ascii\",\"ignore\")\n",
    "    firstright=newname.find(')')\n",
    "    return newname[0:(firstright+1)].strip()\n",
    "\n",
    "movie_id_membership[\"movie\"]=movie_id_membership[\"movie\"].astype('str')\n",
    "#movie_id_membership[\"Newname\"]=movie_id_membership[\"movie\"].map(lambda x:movie_subname(x))\n",
    "movie_id_membership[\"Newname2\"]=movie_id_membership[\"movie\"].map(lambda x:movie_subname2(x))"
   ]
  },
  {
   "cell_type": "code",
   "execution_count": 471,
   "metadata": {
    "collapsed": true
   },
   "outputs": [],
   "source": [
    "id_genre1 = movie_id_membership.merge(movie_genre, left_on=\"Newname2\", right_on=\"Newname\",how = \"left\")"
   ]
  },
  {
   "cell_type": "code",
   "execution_count": 473,
   "metadata": {
    "collapsed": false
   },
   "outputs": [
    {
     "data": {
      "text/html": [
       "<div>\n",
       "<table border=\"1\" class=\"dataframe\">\n",
       "  <thead>\n",
       "    <tr style=\"text-align: right;\">\n",
       "      <th></th>\n",
       "      <th>movie_x</th>\n",
       "      <th>count</th>\n",
       "      <th>id</th>\n",
       "      <th>membership</th>\n",
       "      <th>Newname2</th>\n",
       "      <th>movie_y</th>\n",
       "      <th>genre</th>\n",
       "      <th>Newname</th>\n",
       "    </tr>\n",
       "  </thead>\n",
       "  <tbody>\n",
       "    <tr>\n",
       "      <th>12</th>\n",
       "      <td>Ai no rekishi (1955)</td>\n",
       "      <td>11</td>\n",
       "      <td>12</td>\n",
       "      <td>1</td>\n",
       "      <td>Ai no rekishi (1955)</td>\n",
       "      <td>NaN</td>\n",
       "      <td>NaN</td>\n",
       "      <td>NaN</td>\n",
       "    </tr>\n",
       "    <tr>\n",
       "      <th>13</th>\n",
       "      <td>Aijin (1953)</td>\n",
       "      <td>11</td>\n",
       "      <td>13</td>\n",
       "      <td>1</td>\n",
       "      <td>Aijin (1953)</td>\n",
       "      <td>NaN</td>\n",
       "      <td>NaN</td>\n",
       "      <td>NaN</td>\n",
       "    </tr>\n",
       "    <tr>\n",
       "      <th>18</th>\n",
       "      <td>Ama - Nangoku-hen (1926)</td>\n",
       "      <td>11</td>\n",
       "      <td>18</td>\n",
       "      <td>1</td>\n",
       "      <td>Ama - Nangoku-hen (1926)</td>\n",
       "      <td>NaN</td>\n",
       "      <td>NaN</td>\n",
       "      <td>NaN</td>\n",
       "    </tr>\n",
       "    <tr>\n",
       "      <th>19</th>\n",
       "      <td>Ame no naka ni kiete (1963)</td>\n",
       "      <td>15</td>\n",
       "      <td>19</td>\n",
       "      <td>1</td>\n",
       "      <td>Ame no naka ni kiete (1963)</td>\n",
       "      <td>NaN</td>\n",
       "      <td>NaN</td>\n",
       "      <td>NaN</td>\n",
       "    </tr>\n",
       "    <tr>\n",
       "      <th>22</th>\n",
       "      <td>Anino ni Sisa (1968)</td>\n",
       "      <td>11</td>\n",
       "      <td>22</td>\n",
       "      <td>3</td>\n",
       "      <td>Anino ni Sisa (1968)</td>\n",
       "      <td>NaN</td>\n",
       "      <td>NaN</td>\n",
       "      <td>NaN</td>\n",
       "    </tr>\n",
       "    <tr>\n",
       "      <th>47</th>\n",
       "      <td>Bob und Mary (1923)</td>\n",
       "      <td>12</td>\n",
       "      <td>47</td>\n",
       "      <td>9</td>\n",
       "      <td>Bob und Mary (1923)</td>\n",
       "      <td>NaN</td>\n",
       "      <td>NaN</td>\n",
       "      <td>NaN</td>\n",
       "    </tr>\n",
       "    <tr>\n",
       "      <th>49</th>\n",
       "      <td>Bolidi sull'asfalto a tutta birra! (1970)</td>\n",
       "      <td>10</td>\n",
       "      <td>49</td>\n",
       "      <td>5</td>\n",
       "      <td>Bolidi sull'asfalto a tutta birra! (1970)</td>\n",
       "      <td>NaN</td>\n",
       "      <td>NaN</td>\n",
       "      <td>NaN</td>\n",
       "    </tr>\n",
       "    <tr>\n",
       "      <th>67</th>\n",
       "      <td>Clara et les m�chants (1958)</td>\n",
       "      <td>10</td>\n",
       "      <td>67</td>\n",
       "      <td>5</td>\n",
       "      <td>Clara et les mchants (1958)</td>\n",
       "      <td>NaN</td>\n",
       "      <td>NaN</td>\n",
       "      <td>NaN</td>\n",
       "    </tr>\n",
       "    <tr>\n",
       "      <th>83</th>\n",
       "      <td>Cs�k� �s kalap (1941)</td>\n",
       "      <td>22</td>\n",
       "      <td>83</td>\n",
       "      <td>8</td>\n",
       "      <td>Csk s kalap (1941)</td>\n",
       "      <td>NaN</td>\n",
       "      <td>NaN</td>\n",
       "      <td>NaN</td>\n",
       "    </tr>\n",
       "    <tr>\n",
       "      <th>97</th>\n",
       "      <td>Der Roman eines Dienstm�dchens (1921)</td>\n",
       "      <td>17</td>\n",
       "      <td>97</td>\n",
       "      <td>9</td>\n",
       "      <td>Der Roman eines Dienstmdchens (1921)</td>\n",
       "      <td>NaN</td>\n",
       "      <td>NaN</td>\n",
       "      <td>NaN</td>\n",
       "    </tr>\n",
       "    <tr>\n",
       "      <th>109</th>\n",
       "      <td>Die beiden Seehunde (1934)</td>\n",
       "      <td>20</td>\n",
       "      <td>109</td>\n",
       "      <td>9</td>\n",
       "      <td>Die beiden Seehunde (1934)</td>\n",
       "      <td>NaN</td>\n",
       "      <td>NaN</td>\n",
       "      <td>NaN</td>\n",
       "    </tr>\n",
       "    <tr>\n",
       "      <th>110</th>\n",
       "      <td>Die gl�hende Gasse (1927)</td>\n",
       "      <td>15</td>\n",
       "      <td>110</td>\n",
       "      <td>9</td>\n",
       "      <td>Die glhende Gasse (1927)</td>\n",
       "      <td>NaN</td>\n",
       "      <td>NaN</td>\n",
       "      <td>NaN</td>\n",
       "    </tr>\n",
       "    <tr>\n",
       "      <th>111</th>\n",
       "      <td>Dil Hi Dil Mein (1982)</td>\n",
       "      <td>12</td>\n",
       "      <td>111</td>\n",
       "      <td>10</td>\n",
       "      <td>Dil Hi Dil Mein (1982)</td>\n",
       "      <td>NaN</td>\n",
       "      <td>NaN</td>\n",
       "      <td>NaN</td>\n",
       "    </tr>\n",
       "    <tr>\n",
       "      <th>136</th>\n",
       "      <td>En f�rtjusande fr�ken (1945)</td>\n",
       "      <td>12</td>\n",
       "      <td>136</td>\n",
       "      <td>12</td>\n",
       "      <td>En frtjusande frken (1945)</td>\n",
       "      <td>NaN</td>\n",
       "      <td>NaN</td>\n",
       "      <td>NaN</td>\n",
       "    </tr>\n",
       "    <tr>\n",
       "      <th>143</th>\n",
       "      <td>Er�zi� (1992)</td>\n",
       "      <td>10</td>\n",
       "      <td>143</td>\n",
       "      <td>8</td>\n",
       "      <td>Erzi (1992)</td>\n",
       "      <td>NaN</td>\n",
       "      <td>NaN</td>\n",
       "      <td>NaN</td>\n",
       "    </tr>\n",
       "    <tr>\n",
       "      <th>157</th>\n",
       "      <td>Friarannonsen (1955)</td>\n",
       "      <td>14</td>\n",
       "      <td>157</td>\n",
       "      <td>12</td>\n",
       "      <td>Friarannonsen (1955)</td>\n",
       "      <td>NaN</td>\n",
       "      <td>NaN</td>\n",
       "      <td>NaN</td>\n",
       "    </tr>\n",
       "    <tr>\n",
       "      <th>160</th>\n",
       "      <td>Fr�ulein Josette - Meine Frau (1926)</td>\n",
       "      <td>10</td>\n",
       "      <td>160</td>\n",
       "      <td>9</td>\n",
       "      <td>Frulein Josette - Meine Frau (1926)</td>\n",
       "      <td>NaN</td>\n",
       "      <td>NaN</td>\n",
       "      <td>NaN</td>\n",
       "    </tr>\n",
       "    <tr>\n",
       "      <th>171</th>\n",
       "      <td>Grzechy dziecinstwa (1984)</td>\n",
       "      <td>12</td>\n",
       "      <td>171</td>\n",
       "      <td>8</td>\n",
       "      <td>Grzechy dziecinstwa (1984)</td>\n",
       "      <td>NaN</td>\n",
       "      <td>NaN</td>\n",
       "      <td>NaN</td>\n",
       "    </tr>\n",
       "    <tr>\n",
       "      <th>185</th>\n",
       "      <td>Hibana (1956)</td>\n",
       "      <td>20</td>\n",
       "      <td>185</td>\n",
       "      <td>1</td>\n",
       "      <td>Hibana (1956)</td>\n",
       "      <td>NaN</td>\n",
       "      <td>NaN</td>\n",
       "      <td>NaN</td>\n",
       "    </tr>\n",
       "    <tr>\n",
       "      <th>190</th>\n",
       "      <td>Hotel klasy lux (1979)</td>\n",
       "      <td>22</td>\n",
       "      <td>190</td>\n",
       "      <td>8</td>\n",
       "      <td>Hotel klasy lux (1979)</td>\n",
       "      <td>NaN</td>\n",
       "      <td>NaN</td>\n",
       "      <td>NaN</td>\n",
       "    </tr>\n",
       "    <tr>\n",
       "      <th>205</th>\n",
       "      <td>Il principe fusto (1960)</td>\n",
       "      <td>22</td>\n",
       "      <td>205</td>\n",
       "      <td>5</td>\n",
       "      <td>Il principe fusto (1960)</td>\n",
       "      <td>NaN</td>\n",
       "      <td>NaN</td>\n",
       "      <td>NaN</td>\n",
       "    </tr>\n",
       "    <tr>\n",
       "      <th>219</th>\n",
       "      <td>Johann Strauss, k. u. k. Hofkapellmeister (1932)</td>\n",
       "      <td>12</td>\n",
       "      <td>219</td>\n",
       "      <td>9</td>\n",
       "      <td>Johann Strauss, k. u. k. Hofkapellmeister (1932)</td>\n",
       "      <td>NaN</td>\n",
       "      <td>NaN</td>\n",
       "      <td>NaN</td>\n",
       "    </tr>\n",
       "    <tr>\n",
       "      <th>229</th>\n",
       "      <td>Karatista (1967)</td>\n",
       "      <td>16</td>\n",
       "      <td>229</td>\n",
       "      <td>3</td>\n",
       "      <td>Karatista (1967)</td>\n",
       "      <td>NaN</td>\n",
       "      <td>NaN</td>\n",
       "      <td>NaN</td>\n",
       "    </tr>\n",
       "    <tr>\n",
       "      <th>230</th>\n",
       "      <td>Kawachi y�ky�den (1967)</td>\n",
       "      <td>10</td>\n",
       "      <td>230</td>\n",
       "      <td>1</td>\n",
       "      <td>Kawachi ykyden (1967)</td>\n",
       "      <td>NaN</td>\n",
       "      <td>NaN</td>\n",
       "      <td>NaN</td>\n",
       "    </tr>\n",
       "    <tr>\n",
       "      <th>233</th>\n",
       "      <td>Kichamani M.B.A. (2007)</td>\n",
       "      <td>10</td>\n",
       "      <td>233</td>\n",
       "      <td>14</td>\n",
       "      <td>Kichamani M.B.A. (2007)</td>\n",
       "      <td>NaN</td>\n",
       "      <td>NaN</td>\n",
       "      <td>NaN</td>\n",
       "    </tr>\n",
       "    <tr>\n",
       "      <th>238</th>\n",
       "      <td>Kizil maske'nin intikami (1971)</td>\n",
       "      <td>10</td>\n",
       "      <td>238</td>\n",
       "      <td>4</td>\n",
       "      <td>Kizil maske'nin intikami (1971)</td>\n",
       "      <td>NaN</td>\n",
       "      <td>NaN</td>\n",
       "      <td>NaN</td>\n",
       "    </tr>\n",
       "    <tr>\n",
       "      <th>245</th>\n",
       "      <td>L'apocalisse (1947)</td>\n",
       "      <td>26</td>\n",
       "      <td>245</td>\n",
       "      <td>5</td>\n",
       "      <td>L'apocalisse (1947)</td>\n",
       "      <td>NaN</td>\n",
       "      <td>NaN</td>\n",
       "      <td>NaN</td>\n",
       "    </tr>\n",
       "    <tr>\n",
       "      <th>246</th>\n",
       "      <td>L'aria del continente (1939)</td>\n",
       "      <td>16</td>\n",
       "      <td>246</td>\n",
       "      <td>5</td>\n",
       "      <td>L'aria del continente (1939)</td>\n",
       "      <td>NaN</td>\n",
       "      <td>NaN</td>\n",
       "      <td>NaN</td>\n",
       "    </tr>\n",
       "    <tr>\n",
       "      <th>247</th>\n",
       "      <td>L'oeuf (1972)</td>\n",
       "      <td>24</td>\n",
       "      <td>247</td>\n",
       "      <td>5</td>\n",
       "      <td>L'oeuf (1972)</td>\n",
       "      <td>NaN</td>\n",
       "      <td>NaN</td>\n",
       "      <td>NaN</td>\n",
       "    </tr>\n",
       "    <tr>\n",
       "      <th>251</th>\n",
       "      <td>La polka des menottes (1957)</td>\n",
       "      <td>17</td>\n",
       "      <td>251</td>\n",
       "      <td>5</td>\n",
       "      <td>La polka des menottes (1957)</td>\n",
       "      <td>NaN</td>\n",
       "      <td>NaN</td>\n",
       "      <td>NaN</td>\n",
       "    </tr>\n",
       "    <tr>\n",
       "      <th>...</th>\n",
       "      <td>...</td>\n",
       "      <td>...</td>\n",
       "      <td>...</td>\n",
       "      <td>...</td>\n",
       "      <td>...</td>\n",
       "      <td>...</td>\n",
       "      <td>...</td>\n",
       "      <td>...</td>\n",
       "    </tr>\n",
       "    <tr>\n",
       "      <th>98449</th>\n",
       "      <td>Kandelerong pilak (1954)</td>\n",
       "      <td>10</td>\n",
       "      <td>1709396984015</td>\n",
       "      <td>3</td>\n",
       "      <td>Kandelerong pilak (1954)</td>\n",
       "      <td>NaN</td>\n",
       "      <td>NaN</td>\n",
       "      <td>NaN</td>\n",
       "    </tr>\n",
       "    <tr>\n",
       "      <th>98453</th>\n",
       "      <td>Kdybych byl t�tou (1939)</td>\n",
       "      <td>28</td>\n",
       "      <td>1709396984019</td>\n",
       "      <td>8</td>\n",
       "      <td>Kdybych byl ttou (1939)</td>\n",
       "      <td>NaN</td>\n",
       "      <td>NaN</td>\n",
       "      <td>NaN</td>\n",
       "    </tr>\n",
       "    <tr>\n",
       "      <th>98456</th>\n",
       "      <td>Kigeki: Ippatsu sh�bu (1967)</td>\n",
       "      <td>12</td>\n",
       "      <td>1709396984022</td>\n",
       "      <td>1</td>\n",
       "      <td>Kigeki: Ippatsu shbu (1967)</td>\n",
       "      <td>NaN</td>\n",
       "      <td>NaN</td>\n",
       "      <td>NaN</td>\n",
       "    </tr>\n",
       "    <tr>\n",
       "      <th>98467</th>\n",
       "      <td>L'uomo dai calzoni corti (1958)</td>\n",
       "      <td>10</td>\n",
       "      <td>1709396984033</td>\n",
       "      <td>5</td>\n",
       "      <td>L'uomo dai calzoni corti (1958)</td>\n",
       "      <td>NaN</td>\n",
       "      <td>NaN</td>\n",
       "      <td>NaN</td>\n",
       "    </tr>\n",
       "    <tr>\n",
       "      <th>98476</th>\n",
       "      <td>La petici�n (1976)</td>\n",
       "      <td>12</td>\n",
       "      <td>1709396984042</td>\n",
       "      <td>5</td>\n",
       "      <td>La peticin (1976)</td>\n",
       "      <td>NaN</td>\n",
       "      <td>NaN</td>\n",
       "      <td>NaN</td>\n",
       "    </tr>\n",
       "    <tr>\n",
       "      <th>98479</th>\n",
       "      <td>La vida encadenada (1948)</td>\n",
       "      <td>10</td>\n",
       "      <td>1709396984045</td>\n",
       "      <td>5</td>\n",
       "      <td>La vida encadenada (1948)</td>\n",
       "      <td>NaN</td>\n",
       "      <td>NaN</td>\n",
       "      <td>NaN</td>\n",
       "    </tr>\n",
       "    <tr>\n",
       "      <th>98487</th>\n",
       "      <td>Lazos rotos (2008)</td>\n",
       "      <td>10</td>\n",
       "      <td>1709396984053</td>\n",
       "      <td>5</td>\n",
       "      <td>Lazos rotos (2008)</td>\n",
       "      <td>NaN</td>\n",
       "      <td>NaN</td>\n",
       "      <td>NaN</td>\n",
       "    </tr>\n",
       "    <tr>\n",
       "      <th>98491</th>\n",
       "      <td>Leckerbissen (1948)  (archive footage)</td>\n",
       "      <td>30</td>\n",
       "      <td>1709396984057</td>\n",
       "      <td>9</td>\n",
       "      <td>Leckerbissen (1948)</td>\n",
       "      <td>NaN</td>\n",
       "      <td>NaN</td>\n",
       "      <td>NaN</td>\n",
       "    </tr>\n",
       "    <tr>\n",
       "      <th>98496</th>\n",
       "      <td>Lid� pod horami (1938)</td>\n",
       "      <td>12</td>\n",
       "      <td>1709396984062</td>\n",
       "      <td>8</td>\n",
       "      <td>Lid pod horami (1938)</td>\n",
       "      <td>NaN</td>\n",
       "      <td>NaN</td>\n",
       "      <td>NaN</td>\n",
       "    </tr>\n",
       "    <tr>\n",
       "      <th>98509</th>\n",
       "      <td>Maihime (1951)</td>\n",
       "      <td>12</td>\n",
       "      <td>1709396984075</td>\n",
       "      <td>1</td>\n",
       "      <td>Maihime (1951)</td>\n",
       "      <td>NaN</td>\n",
       "      <td>NaN</td>\n",
       "      <td>NaN</td>\n",
       "    </tr>\n",
       "    <tr>\n",
       "      <th>98510</th>\n",
       "      <td>Maly (1970)</td>\n",
       "      <td>11</td>\n",
       "      <td>1709396984076</td>\n",
       "      <td>8</td>\n",
       "      <td>Maly (1970)</td>\n",
       "      <td>NaN</td>\n",
       "      <td>NaN</td>\n",
       "      <td>NaN</td>\n",
       "    </tr>\n",
       "    <tr>\n",
       "      <th>98518</th>\n",
       "      <td>Mer�nylet (1960)</td>\n",
       "      <td>38</td>\n",
       "      <td>1709396984084</td>\n",
       "      <td>8</td>\n",
       "      <td>Mernylet (1960)</td>\n",
       "      <td>NaN</td>\n",
       "      <td>NaN</td>\n",
       "      <td>NaN</td>\n",
       "    </tr>\n",
       "    <tr>\n",
       "      <th>98523</th>\n",
       "      <td>Mito K�mon: Rai Kunitsugu no maki (1934)</td>\n",
       "      <td>10</td>\n",
       "      <td>1709396984089</td>\n",
       "      <td>1</td>\n",
       "      <td>Mito Kmon: Rai Kunitsugu no maki (1934)</td>\n",
       "      <td>NaN</td>\n",
       "      <td>NaN</td>\n",
       "      <td>NaN</td>\n",
       "    </tr>\n",
       "    <tr>\n",
       "      <th>98528</th>\n",
       "      <td>Mord for �bent t�ppe (1964)</td>\n",
       "      <td>20</td>\n",
       "      <td>1709396984094</td>\n",
       "      <td>12</td>\n",
       "      <td>Mord for bent tppe (1964)</td>\n",
       "      <td>NaN</td>\n",
       "      <td>NaN</td>\n",
       "      <td>NaN</td>\n",
       "    </tr>\n",
       "    <tr>\n",
       "      <th>98547</th>\n",
       "      <td>Oretachi ni haka wa nai (1979)</td>\n",
       "      <td>13</td>\n",
       "      <td>1709396984113</td>\n",
       "      <td>1</td>\n",
       "      <td>Oretachi ni haka wa nai (1979)</td>\n",
       "      <td>NaN</td>\n",
       "      <td>NaN</td>\n",
       "      <td>NaN</td>\n",
       "    </tr>\n",
       "    <tr>\n",
       "      <th>98554</th>\n",
       "      <td>Partire (1938)</td>\n",
       "      <td>19</td>\n",
       "      <td>1709396984120</td>\n",
       "      <td>5</td>\n",
       "      <td>Partire (1938)</td>\n",
       "      <td>NaN</td>\n",
       "      <td>NaN</td>\n",
       "      <td>NaN</td>\n",
       "    </tr>\n",
       "    <tr>\n",
       "      <th>98564</th>\n",
       "      <td>Polis Paulus' p�skasm�ll (1925)</td>\n",
       "      <td>10</td>\n",
       "      <td>1709396984130</td>\n",
       "      <td>12</td>\n",
       "      <td>Polis Paulus' pskasmll (1925)</td>\n",
       "      <td>NaN</td>\n",
       "      <td>NaN</td>\n",
       "      <td>NaN</td>\n",
       "    </tr>\n",
       "    <tr>\n",
       "      <th>98566</th>\n",
       "      <td>Porn... It's a Living (1998)</td>\n",
       "      <td>18</td>\n",
       "      <td>1709396984132</td>\n",
       "      <td>6</td>\n",
       "      <td>Porn... It's a Living (1998)</td>\n",
       "      <td>NaN</td>\n",
       "      <td>NaN</td>\n",
       "      <td>NaN</td>\n",
       "    </tr>\n",
       "    <tr>\n",
       "      <th>98583</th>\n",
       "      <td>Rashtram (2006)</td>\n",
       "      <td>16</td>\n",
       "      <td>1709396984149</td>\n",
       "      <td>14</td>\n",
       "      <td>Rashtram (2006)</td>\n",
       "      <td>NaN</td>\n",
       "      <td>NaN</td>\n",
       "      <td>NaN</td>\n",
       "    </tr>\n",
       "    <tr>\n",
       "      <th>98588</th>\n",
       "      <td>Rend mig i revolutionen (1970)</td>\n",
       "      <td>27</td>\n",
       "      <td>1709396984154</td>\n",
       "      <td>12</td>\n",
       "      <td>Rend mig i revolutionen (1970)</td>\n",
       "      <td>NaN</td>\n",
       "      <td>NaN</td>\n",
       "      <td>NaN</td>\n",
       "    </tr>\n",
       "    <tr>\n",
       "      <th>98590</th>\n",
       "      <td>Requiem f�r Hans Grundig (1976)</td>\n",
       "      <td>13</td>\n",
       "      <td>1709396984156</td>\n",
       "      <td>9</td>\n",
       "      <td>Requiem fr Hans Grundig (1976)</td>\n",
       "      <td>NaN</td>\n",
       "      <td>NaN</td>\n",
       "      <td>NaN</td>\n",
       "    </tr>\n",
       "    <tr>\n",
       "      <th>98609</th>\n",
       "      <td>Sentados al borde de la ma�ana con los pies co...</td>\n",
       "      <td>13</td>\n",
       "      <td>1709396984175</td>\n",
       "      <td>5</td>\n",
       "      <td>Sentados al borde de la maana con los pies col...</td>\n",
       "      <td>NaN</td>\n",
       "      <td>NaN</td>\n",
       "      <td>NaN</td>\n",
       "    </tr>\n",
       "    <tr>\n",
       "      <th>98612</th>\n",
       "      <td>Sestra Angelika (1933)</td>\n",
       "      <td>10</td>\n",
       "      <td>1709396984178</td>\n",
       "      <td>8</td>\n",
       "      <td>Sestra Angelika (1933)</td>\n",
       "      <td>NaN</td>\n",
       "      <td>NaN</td>\n",
       "      <td>NaN</td>\n",
       "    </tr>\n",
       "    <tr>\n",
       "      <th>98640</th>\n",
       "      <td>Super Mario Stadium: Family Baseball (2008) (V...</td>\n",
       "      <td>12</td>\n",
       "      <td>1709396984206</td>\n",
       "      <td>1</td>\n",
       "      <td>Super Mario Stadium: Family Baseball (2008)</td>\n",
       "      <td>NaN</td>\n",
       "      <td>NaN</td>\n",
       "      <td>NaN</td>\n",
       "    </tr>\n",
       "    <tr>\n",
       "      <th>98641</th>\n",
       "      <td>Superlove (1999)</td>\n",
       "      <td>12</td>\n",
       "      <td>1709396984207</td>\n",
       "      <td>5</td>\n",
       "      <td>Superlove (1999)</td>\n",
       "      <td>NaN</td>\n",
       "      <td>NaN</td>\n",
       "      <td>NaN</td>\n",
       "    </tr>\n",
       "    <tr>\n",
       "      <th>98644</th>\n",
       "      <td>Tadaima zero hiki (1957)</td>\n",
       "      <td>16</td>\n",
       "      <td>1709396984210</td>\n",
       "      <td>1</td>\n",
       "      <td>Tadaima zero hiki (1957)</td>\n",
       "      <td>NaN</td>\n",
       "      <td>NaN</td>\n",
       "      <td>NaN</td>\n",
       "    </tr>\n",
       "    <tr>\n",
       "      <th>98703</th>\n",
       "      <td>Tredowata (1926)</td>\n",
       "      <td>13</td>\n",
       "      <td>1709396984269</td>\n",
       "      <td>8</td>\n",
       "      <td>Tredowata (1926)</td>\n",
       "      <td>NaN</td>\n",
       "      <td>NaN</td>\n",
       "      <td>NaN</td>\n",
       "    </tr>\n",
       "    <tr>\n",
       "      <th>98714</th>\n",
       "      <td>Vir�gvas�rnap (1969)</td>\n",
       "      <td>23</td>\n",
       "      <td>1709396984280</td>\n",
       "      <td>8</td>\n",
       "      <td>Virgvasrnap (1969)</td>\n",
       "      <td>NaN</td>\n",
       "      <td>NaN</td>\n",
       "      <td>NaN</td>\n",
       "    </tr>\n",
       "    <tr>\n",
       "      <th>98737</th>\n",
       "      <td>Zivot vojensk�, zivot vesel� (1934)</td>\n",
       "      <td>16</td>\n",
       "      <td>1709396984303</td>\n",
       "      <td>8</td>\n",
       "      <td>Zivot vojensk, zivot vesel (1934)</td>\n",
       "      <td>NaN</td>\n",
       "      <td>NaN</td>\n",
       "      <td>NaN</td>\n",
       "    </tr>\n",
       "    <tr>\n",
       "      <th>98742</th>\n",
       "      <td>Zwischen Nacht und Tag (1975)</td>\n",
       "      <td>14</td>\n",
       "      <td>1709396984308</td>\n",
       "      <td>9</td>\n",
       "      <td>Zwischen Nacht und Tag (1975)</td>\n",
       "      <td>NaN</td>\n",
       "      <td>NaN</td>\n",
       "      <td>NaN</td>\n",
       "    </tr>\n",
       "  </tbody>\n",
       "</table>\n",
       "<p>8553 rows × 8 columns</p>\n",
       "</div>"
      ],
      "text/plain": [
       "                                                 movie_x  count  \\\n",
       "12                                  Ai no rekishi (1955)     11   \n",
       "13                                          Aijin (1953)     11   \n",
       "18                              Ama - Nangoku-hen (1926)     11   \n",
       "19                           Ame no naka ni kiete (1963)     15   \n",
       "22                                  Anino ni Sisa (1968)     11   \n",
       "47                                   Bob und Mary (1923)     12   \n",
       "49             Bolidi sull'asfalto a tutta birra! (1970)     10   \n",
       "67                          Clara et les m�chants (1958)     10   \n",
       "83                                 Cs�k� �s kalap (1941)     22   \n",
       "97                 Der Roman eines Dienstm�dchens (1921)     17   \n",
       "109                           Die beiden Seehunde (1934)     20   \n",
       "110                            Die gl�hende Gasse (1927)     15   \n",
       "111                               Dil Hi Dil Mein (1982)     12   \n",
       "136                         En f�rtjusande fr�ken (1945)     12   \n",
       "143                                        Er�zi� (1992)     10   \n",
       "157                                 Friarannonsen (1955)     14   \n",
       "160                 Fr�ulein Josette - Meine Frau (1926)     10   \n",
       "171                           Grzechy dziecinstwa (1984)     12   \n",
       "185                                        Hibana (1956)     20   \n",
       "190                               Hotel klasy lux (1979)     22   \n",
       "205                             Il principe fusto (1960)     22   \n",
       "219     Johann Strauss, k. u. k. Hofkapellmeister (1932)     12   \n",
       "229                                     Karatista (1967)     16   \n",
       "230                              Kawachi y�ky�den (1967)     10   \n",
       "233                              Kichamani M.B.A. (2007)     10   \n",
       "238                      Kizil maske'nin intikami (1971)     10   \n",
       "245                                  L'apocalisse (1947)     26   \n",
       "246                         L'aria del continente (1939)     16   \n",
       "247                                        L'oeuf (1972)     24   \n",
       "251                         La polka des menottes (1957)     17   \n",
       "...                                                  ...    ...   \n",
       "98449                           Kandelerong pilak (1954)     10   \n",
       "98453                           Kdybych byl t�tou (1939)     28   \n",
       "98456                       Kigeki: Ippatsu sh�bu (1967)     12   \n",
       "98467                    L'uomo dai calzoni corti (1958)     10   \n",
       "98476                                 La petici�n (1976)     12   \n",
       "98479                          La vida encadenada (1948)     10   \n",
       "98487                                 Lazos rotos (2008)     10   \n",
       "98491             Leckerbissen (1948)  (archive footage)     30   \n",
       "98496                             Lid� pod horami (1938)     12   \n",
       "98509                                     Maihime (1951)     12   \n",
       "98510                                        Maly (1970)     11   \n",
       "98518                                   Mer�nylet (1960)     38   \n",
       "98523           Mito K�mon: Rai Kunitsugu no maki (1934)     10   \n",
       "98528                        Mord for �bent t�ppe (1964)     20   \n",
       "98547                     Oretachi ni haka wa nai (1979)     13   \n",
       "98554                                     Partire (1938)     19   \n",
       "98564                    Polis Paulus' p�skasm�ll (1925)     10   \n",
       "98566                       Porn... It's a Living (1998)     18   \n",
       "98583                                    Rashtram (2006)     16   \n",
       "98588                     Rend mig i revolutionen (1970)     27   \n",
       "98590                    Requiem f�r Hans Grundig (1976)     13   \n",
       "98609  Sentados al borde de la ma�ana con los pies co...     13   \n",
       "98612                             Sestra Angelika (1933)     10   \n",
       "98640  Super Mario Stadium: Family Baseball (2008) (V...     12   \n",
       "98641                                   Superlove (1999)     12   \n",
       "98644                           Tadaima zero hiki (1957)     16   \n",
       "98703                                   Tredowata (1926)     13   \n",
       "98714                               Vir�gvas�rnap (1969)     23   \n",
       "98737                Zivot vojensk�, zivot vesel� (1934)     16   \n",
       "98742                      Zwischen Nacht und Tag (1975)     14   \n",
       "\n",
       "                  id  membership  \\\n",
       "12                12           1   \n",
       "13                13           1   \n",
       "18                18           1   \n",
       "19                19           1   \n",
       "22                22           3   \n",
       "47                47           9   \n",
       "49                49           5   \n",
       "67                67           5   \n",
       "83                83           8   \n",
       "97                97           9   \n",
       "109              109           9   \n",
       "110              110           9   \n",
       "111              111          10   \n",
       "136              136          12   \n",
       "143              143           8   \n",
       "157              157          12   \n",
       "160              160           9   \n",
       "171              171           8   \n",
       "185              185           1   \n",
       "190              190           8   \n",
       "205              205           5   \n",
       "219              219           9   \n",
       "229              229           3   \n",
       "230              230           1   \n",
       "233              233          14   \n",
       "238              238           4   \n",
       "245              245           5   \n",
       "246              246           5   \n",
       "247              247           5   \n",
       "251              251           5   \n",
       "...              ...         ...   \n",
       "98449  1709396984015           3   \n",
       "98453  1709396984019           8   \n",
       "98456  1709396984022           1   \n",
       "98467  1709396984033           5   \n",
       "98476  1709396984042           5   \n",
       "98479  1709396984045           5   \n",
       "98487  1709396984053           5   \n",
       "98491  1709396984057           9   \n",
       "98496  1709396984062           8   \n",
       "98509  1709396984075           1   \n",
       "98510  1709396984076           8   \n",
       "98518  1709396984084           8   \n",
       "98523  1709396984089           1   \n",
       "98528  1709396984094          12   \n",
       "98547  1709396984113           1   \n",
       "98554  1709396984120           5   \n",
       "98564  1709396984130          12   \n",
       "98566  1709396984132           6   \n",
       "98583  1709396984149          14   \n",
       "98588  1709396984154          12   \n",
       "98590  1709396984156           9   \n",
       "98609  1709396984175           5   \n",
       "98612  1709396984178           8   \n",
       "98640  1709396984206           1   \n",
       "98641  1709396984207           5   \n",
       "98644  1709396984210           1   \n",
       "98703  1709396984269           8   \n",
       "98714  1709396984280           8   \n",
       "98737  1709396984303           8   \n",
       "98742  1709396984308           9   \n",
       "\n",
       "                                                Newname2 movie_y genre Newname  \n",
       "12                                  Ai no rekishi (1955)     NaN   NaN     NaN  \n",
       "13                                          Aijin (1953)     NaN   NaN     NaN  \n",
       "18                              Ama - Nangoku-hen (1926)     NaN   NaN     NaN  \n",
       "19                           Ame no naka ni kiete (1963)     NaN   NaN     NaN  \n",
       "22                                  Anino ni Sisa (1968)     NaN   NaN     NaN  \n",
       "47                                   Bob und Mary (1923)     NaN   NaN     NaN  \n",
       "49             Bolidi sull'asfalto a tutta birra! (1970)     NaN   NaN     NaN  \n",
       "67                           Clara et les mchants (1958)     NaN   NaN     NaN  \n",
       "83                                    Csk s kalap (1941)     NaN   NaN     NaN  \n",
       "97                  Der Roman eines Dienstmdchens (1921)     NaN   NaN     NaN  \n",
       "109                           Die beiden Seehunde (1934)     NaN   NaN     NaN  \n",
       "110                             Die glhende Gasse (1927)     NaN   NaN     NaN  \n",
       "111                               Dil Hi Dil Mein (1982)     NaN   NaN     NaN  \n",
       "136                           En frtjusande frken (1945)     NaN   NaN     NaN  \n",
       "143                                          Erzi (1992)     NaN   NaN     NaN  \n",
       "157                                 Friarannonsen (1955)     NaN   NaN     NaN  \n",
       "160                  Frulein Josette - Meine Frau (1926)     NaN   NaN     NaN  \n",
       "171                           Grzechy dziecinstwa (1984)     NaN   NaN     NaN  \n",
       "185                                        Hibana (1956)     NaN   NaN     NaN  \n",
       "190                               Hotel klasy lux (1979)     NaN   NaN     NaN  \n",
       "205                             Il principe fusto (1960)     NaN   NaN     NaN  \n",
       "219     Johann Strauss, k. u. k. Hofkapellmeister (1932)     NaN   NaN     NaN  \n",
       "229                                     Karatista (1967)     NaN   NaN     NaN  \n",
       "230                                Kawachi ykyden (1967)     NaN   NaN     NaN  \n",
       "233                              Kichamani M.B.A. (2007)     NaN   NaN     NaN  \n",
       "238                      Kizil maske'nin intikami (1971)     NaN   NaN     NaN  \n",
       "245                                  L'apocalisse (1947)     NaN   NaN     NaN  \n",
       "246                         L'aria del continente (1939)     NaN   NaN     NaN  \n",
       "247                                        L'oeuf (1972)     NaN   NaN     NaN  \n",
       "251                         La polka des menottes (1957)     NaN   NaN     NaN  \n",
       "...                                                  ...     ...   ...     ...  \n",
       "98449                           Kandelerong pilak (1954)     NaN   NaN     NaN  \n",
       "98453                            Kdybych byl ttou (1939)     NaN   NaN     NaN  \n",
       "98456                        Kigeki: Ippatsu shbu (1967)     NaN   NaN     NaN  \n",
       "98467                    L'uomo dai calzoni corti (1958)     NaN   NaN     NaN  \n",
       "98476                                  La peticin (1976)     NaN   NaN     NaN  \n",
       "98479                          La vida encadenada (1948)     NaN   NaN     NaN  \n",
       "98487                                 Lazos rotos (2008)     NaN   NaN     NaN  \n",
       "98491                                Leckerbissen (1948)     NaN   NaN     NaN  \n",
       "98496                              Lid pod horami (1938)     NaN   NaN     NaN  \n",
       "98509                                     Maihime (1951)     NaN   NaN     NaN  \n",
       "98510                                        Maly (1970)     NaN   NaN     NaN  \n",
       "98518                                    Mernylet (1960)     NaN   NaN     NaN  \n",
       "98523            Mito Kmon: Rai Kunitsugu no maki (1934)     NaN   NaN     NaN  \n",
       "98528                          Mord for bent tppe (1964)     NaN   NaN     NaN  \n",
       "98547                     Oretachi ni haka wa nai (1979)     NaN   NaN     NaN  \n",
       "98554                                     Partire (1938)     NaN   NaN     NaN  \n",
       "98564                      Polis Paulus' pskasmll (1925)     NaN   NaN     NaN  \n",
       "98566                       Porn... It's a Living (1998)     NaN   NaN     NaN  \n",
       "98583                                    Rashtram (2006)     NaN   NaN     NaN  \n",
       "98588                     Rend mig i revolutionen (1970)     NaN   NaN     NaN  \n",
       "98590                     Requiem fr Hans Grundig (1976)     NaN   NaN     NaN  \n",
       "98609  Sentados al borde de la maana con los pies col...     NaN   NaN     NaN  \n",
       "98612                             Sestra Angelika (1933)     NaN   NaN     NaN  \n",
       "98640        Super Mario Stadium: Family Baseball (2008)     NaN   NaN     NaN  \n",
       "98641                                   Superlove (1999)     NaN   NaN     NaN  \n",
       "98644                           Tadaima zero hiki (1957)     NaN   NaN     NaN  \n",
       "98703                                   Tredowata (1926)     NaN   NaN     NaN  \n",
       "98714                                 Virgvasrnap (1969)     NaN   NaN     NaN  \n",
       "98737                  Zivot vojensk, zivot vesel (1934)     NaN   NaN     NaN  \n",
       "98742                      Zwischen Nacht und Tag (1975)     NaN   NaN     NaN  \n",
       "\n",
       "[8553 rows x 8 columns]"
      ]
     },
     "execution_count": 473,
     "metadata": {},
     "output_type": "execute_result"
    }
   ],
   "source": [
    "id_genre1[pd.isnull(id_genre1[\"genre\"])==True]"
   ]
  },
  {
   "cell_type": "code",
   "execution_count": 474,
   "metadata": {
    "collapsed": true
   },
   "outputs": [],
   "source": [
    "id_genre = id_genre1[[\"membership\",\"genre\"]]"
   ]
  },
  {
   "cell_type": "code",
   "execution_count": 475,
   "metadata": {
    "collapsed": false
   },
   "outputs": [],
   "source": [
    "id_genre = id_genre.fillna(\"unknown\")"
   ]
  },
  {
   "cell_type": "code",
   "execution_count": 479,
   "metadata": {
    "collapsed": true
   },
   "outputs": [],
   "source": [
    "id_genre[\"number\"] = 1"
   ]
  },
  {
   "cell_type": "code",
   "execution_count": 482,
   "metadata": {
    "collapsed": false
   },
   "outputs": [],
   "source": [
    "genre_membership=pd.pivot_table(id_genre,index=\"membership\",columns= \"genre\",values=\"number\",aggfunc=np.sum)"
   ]
  },
  {
   "cell_type": "code",
   "execution_count": 484,
   "metadata": {
    "collapsed": false
   },
   "outputs": [],
   "source": [
    "genre_membership = genre_membership.fillna(0)\n",
    "genre_membership[\"sum\"] = genre_membership.sum(axis=1)"
   ]
  },
  {
   "cell_type": "code",
   "execution_count": 491,
   "metadata": {
    "collapsed": false
   },
   "outputs": [],
   "source": [
    "#id_genre_new.groupby(\"membership\")[\"genre\"].apply(list)"
   ]
  },
  {
   "cell_type": "code",
   "execution_count": 509,
   "metadata": {
    "collapsed": false
   },
   "outputs": [],
   "source": [
    "genre_membership2 = genre_membership.apply(lambda row: row[:-1]/row[\"sum\"],axis=1)"
   ]
  },
  {
   "cell_type": "code",
   "execution_count": 647,
   "metadata": {
    "collapsed": false
   },
   "outputs": [],
   "source": [
    "labels=genre_membership2.apply(lambda row:np.where(row>0.15),axis=1).map(lambda x:x[0])"
   ]
  },
  {
   "cell_type": "code",
   "execution_count": 648,
   "metadata": {
    "collapsed": false
   },
   "outputs": [],
   "source": [
    "genres=list(genre_membership2.columns)\n",
    "genres=np.asarray(genres)\n",
    "types=[genres[x].tolist() if len(x)>0 else [] for x in labels]"
   ]
  },
  {
   "cell_type": "code",
   "execution_count": 649,
   "metadata": {
    "collapsed": false
   },
   "outputs": [
    {
     "data": {
      "text/plain": [
       "[['Drama', 'Romance', 'Western'],\n",
       " ['Drama', 'unknown'],\n",
       " ['Drama'],\n",
       " ['Action', 'Comedy', 'Drama'],\n",
       " ['Drama', 'Romance'],\n",
       " ['Comedy', 'Drama'],\n",
       " ['Drama', 'Thriller'],\n",
       " ['Comedy', 'Drama', 'Romance'],\n",
       " ['Comedy', 'Drama', 'unknown'],\n",
       " ['Comedy', 'Drama', 'unknown'],\n",
       " ['Drama', 'Romance', 'unknown'],\n",
       " ['Comedy', 'Drama'],\n",
       " ['Comedy', 'Drama'],\n",
       " ['Drama'],\n",
       " ['Drama', 'Romance'],\n",
       " ['Drama', 'War'],\n",
       " ['Short'],\n",
       " ['Comedy', 'Drama', 'Romance'],\n",
       " ['Comedy', 'Drama'],\n",
       " ['Drama', 'Romance', 'Short', 'Thriller'],\n",
       " ['Comedy', 'Drama', 'unknown'],\n",
       " ['Drama', 'War'],\n",
       " ['Drama', 'unknown'],\n",
       " ['Drama', 'Romance']]"
      ]
     },
     "execution_count": 649,
     "metadata": {},
     "output_type": "execute_result"
    }
   ],
   "source": [
    "types"
   ]
  },
  {
   "cell_type": "code",
   "execution_count": 650,
   "metadata": {
    "collapsed": false
   },
   "outputs": [],
   "source": [
    "genre_clustrer = pd.DataFrame({\"community\":total_clusters,\"genre\":types,\"community_size\":genre_membership[\"sum\"].tolist()})"
   ]
  },
  {
   "cell_type": "code",
   "execution_count": 651,
   "metadata": {
    "collapsed": false
   },
   "outputs": [
    {
     "data": {
      "text/html": [
       "<div>\n",
       "<table border=\"1\" class=\"dataframe\">\n",
       "  <thead>\n",
       "    <tr style=\"text-align: right;\">\n",
       "      <th></th>\n",
       "      <th>community</th>\n",
       "      <th>community_size</th>\n",
       "      <th>genre</th>\n",
       "    </tr>\n",
       "  </thead>\n",
       "  <tbody>\n",
       "    <tr>\n",
       "      <th>0</th>\n",
       "      <td>0</td>\n",
       "      <td>18293.0</td>\n",
       "      <td>[Drama, Romance, Western]</td>\n",
       "    </tr>\n",
       "    <tr>\n",
       "      <th>1</th>\n",
       "      <td>1</td>\n",
       "      <td>4636.0</td>\n",
       "      <td>[Drama, unknown]</td>\n",
       "    </tr>\n",
       "    <tr>\n",
       "      <th>2</th>\n",
       "      <td>2</td>\n",
       "      <td>3689.0</td>\n",
       "      <td>[Drama]</td>\n",
       "    </tr>\n",
       "    <tr>\n",
       "      <th>3</th>\n",
       "      <td>3</td>\n",
       "      <td>2912.0</td>\n",
       "      <td>[Action, Comedy, Drama]</td>\n",
       "    </tr>\n",
       "    <tr>\n",
       "      <th>4</th>\n",
       "      <td>4</td>\n",
       "      <td>1196.0</td>\n",
       "      <td>[Drama, Romance]</td>\n",
       "    </tr>\n",
       "    <tr>\n",
       "      <th>5</th>\n",
       "      <td>5</td>\n",
       "      <td>15966.0</td>\n",
       "      <td>[Comedy, Drama]</td>\n",
       "    </tr>\n",
       "    <tr>\n",
       "      <th>6</th>\n",
       "      <td>6</td>\n",
       "      <td>24781.0</td>\n",
       "      <td>[Drama, Thriller]</td>\n",
       "    </tr>\n",
       "    <tr>\n",
       "      <th>7</th>\n",
       "      <td>7</td>\n",
       "      <td>1183.0</td>\n",
       "      <td>[Comedy, Drama, Romance]</td>\n",
       "    </tr>\n",
       "    <tr>\n",
       "      <th>8</th>\n",
       "      <td>8</td>\n",
       "      <td>5204.0</td>\n",
       "      <td>[Comedy, Drama, unknown]</td>\n",
       "    </tr>\n",
       "    <tr>\n",
       "      <th>9</th>\n",
       "      <td>9</td>\n",
       "      <td>5655.0</td>\n",
       "      <td>[Comedy, Drama, unknown]</td>\n",
       "    </tr>\n",
       "    <tr>\n",
       "      <th>10</th>\n",
       "      <td>10</td>\n",
       "      <td>3725.0</td>\n",
       "      <td>[Drama, Romance, unknown]</td>\n",
       "    </tr>\n",
       "    <tr>\n",
       "      <th>11</th>\n",
       "      <td>11</td>\n",
       "      <td>874.0</td>\n",
       "      <td>[Comedy, Drama]</td>\n",
       "    </tr>\n",
       "    <tr>\n",
       "      <th>12</th>\n",
       "      <td>12</td>\n",
       "      <td>2696.0</td>\n",
       "      <td>[Comedy, Drama]</td>\n",
       "    </tr>\n",
       "    <tr>\n",
       "      <th>13</th>\n",
       "      <td>13</td>\n",
       "      <td>3639.0</td>\n",
       "      <td>[Drama]</td>\n",
       "    </tr>\n",
       "    <tr>\n",
       "      <th>14</th>\n",
       "      <td>14</td>\n",
       "      <td>1901.0</td>\n",
       "      <td>[Drama, Romance]</td>\n",
       "    </tr>\n",
       "    <tr>\n",
       "      <th>15</th>\n",
       "      <td>15</td>\n",
       "      <td>1075.0</td>\n",
       "      <td>[Drama, War]</td>\n",
       "    </tr>\n",
       "    <tr>\n",
       "      <th>16</th>\n",
       "      <td>16</td>\n",
       "      <td>340.0</td>\n",
       "      <td>[Short]</td>\n",
       "    </tr>\n",
       "    <tr>\n",
       "      <th>17</th>\n",
       "      <td>17</td>\n",
       "      <td>58.0</td>\n",
       "      <td>[Comedy, Drama, Romance]</td>\n",
       "    </tr>\n",
       "    <tr>\n",
       "      <th>18</th>\n",
       "      <td>18</td>\n",
       "      <td>781.0</td>\n",
       "      <td>[Comedy, Drama]</td>\n",
       "    </tr>\n",
       "    <tr>\n",
       "      <th>19</th>\n",
       "      <td>19</td>\n",
       "      <td>6.0</td>\n",
       "      <td>[Drama, Romance, Short, Thriller]</td>\n",
       "    </tr>\n",
       "    <tr>\n",
       "      <th>20</th>\n",
       "      <td>20</td>\n",
       "      <td>38.0</td>\n",
       "      <td>[Comedy, Drama, unknown]</td>\n",
       "    </tr>\n",
       "    <tr>\n",
       "      <th>21</th>\n",
       "      <td>21</td>\n",
       "      <td>27.0</td>\n",
       "      <td>[Drama, War]</td>\n",
       "    </tr>\n",
       "    <tr>\n",
       "      <th>22</th>\n",
       "      <td>22</td>\n",
       "      <td>72.0</td>\n",
       "      <td>[Drama, unknown]</td>\n",
       "    </tr>\n",
       "    <tr>\n",
       "      <th>23</th>\n",
       "      <td>23</td>\n",
       "      <td>2.0</td>\n",
       "      <td>[Drama, Romance]</td>\n",
       "    </tr>\n",
       "  </tbody>\n",
       "</table>\n",
       "</div>"
      ],
      "text/plain": [
       "    community  community_size                              genre\n",
       "0           0         18293.0          [Drama, Romance, Western]\n",
       "1           1          4636.0                   [Drama, unknown]\n",
       "2           2          3689.0                            [Drama]\n",
       "3           3          2912.0            [Action, Comedy, Drama]\n",
       "4           4          1196.0                   [Drama, Romance]\n",
       "5           5         15966.0                    [Comedy, Drama]\n",
       "6           6         24781.0                  [Drama, Thriller]\n",
       "7           7          1183.0           [Comedy, Drama, Romance]\n",
       "8           8          5204.0           [Comedy, Drama, unknown]\n",
       "9           9          5655.0           [Comedy, Drama, unknown]\n",
       "10         10          3725.0          [Drama, Romance, unknown]\n",
       "11         11           874.0                    [Comedy, Drama]\n",
       "12         12          2696.0                    [Comedy, Drama]\n",
       "13         13          3639.0                            [Drama]\n",
       "14         14          1901.0                   [Drama, Romance]\n",
       "15         15          1075.0                       [Drama, War]\n",
       "16         16           340.0                            [Short]\n",
       "17         17            58.0           [Comedy, Drama, Romance]\n",
       "18         18           781.0                    [Comedy, Drama]\n",
       "19         19             6.0  [Drama, Romance, Short, Thriller]\n",
       "20         20            38.0           [Comedy, Drama, unknown]\n",
       "21         21            27.0                       [Drama, War]\n",
       "22         22            72.0                   [Drama, unknown]\n",
       "23         23             2.0                   [Drama, Romance]"
      ]
     },
     "execution_count": 651,
     "metadata": {},
     "output_type": "execute_result"
    }
   ],
   "source": [
    "genre_clustrer"
   ]
  },
  {
   "cell_type": "code",
   "execution_count": 404,
   "metadata": {
    "collapsed": false
   },
   "outputs": [],
   "source": [
    "id_genre.to_csv(\"id_genre.csv\",header=True,index=False)\n",
    "vertex_id_membership.to_csv(\"vertex_id_membership.csv\",header=True,index=False)"
   ]
  },
  {
   "cell_type": "markdown",
   "metadata": {},
   "source": [
    "# Question 6"
   ]
  },
  {
   "cell_type": "code",
   "execution_count": 626,
   "metadata": {
    "collapsed": false
   },
   "outputs": [],
   "source": [
    "id_member_movie = movie_id_membership[[\"id\",\"membership\",\"movie\"]]\n",
    "movie_genre1 = pd.read_csv(\"movie_genre.txt\",sep = \"\\t\",header = None, names= [\"movie\",\"1\",\"genre\"])\n",
    "movie_genre1 = movie_genre1.drop(\"1\",axis=1)"
   ]
  },
  {
   "cell_type": "code",
   "execution_count": 535,
   "metadata": {
    "collapsed": false
   },
   "outputs": [],
   "source": [
    "movie_pairs = pd.read_csv(\"movie_pairs.csv\", sep=\" \",header = None, names=[\"movie1\",\"movie2\",\"weight\"])\n",
    "movie_count = pd.read_csv(\"movie_count.csv\",header = None,names=[\"movie\",\"count\",\"id\"])"
   ]
  },
  {
   "cell_type": "code",
   "execution_count": 627,
   "metadata": {
    "collapsed": false
   },
   "outputs": [],
   "source": [
    "def movie_subname3(name):\n",
    "    firstright=name.find(')')\n",
    "    return name[0:(firstright+1)].strip()\n",
    "#movie_count[\"movie\"]=movie_count[\"movie\"].astype('str')\n",
    "#movie_count[\"movie\"]=movie_count[\"movie\"].map(lambda x:movie_subname3(x))\n",
    "#movie_pairs[\"movie1\"]=movie_pairs[\"movie1\"].astype('str')\n",
    "#movie_pairs[\"movie2\"]=movie_pairs[\"movie2\"].astype('str')\n",
    "#movie_pairs[\"movie1\"]=movie_pairs[\"movie1\"].map(lambda x:movie_subname3(x))\n",
    "#movie_pairs[\"movie2\"]=movie_pairs[\"movie2\"].map(lambda x:movie_subname3(x))"
   ]
  },
  {
   "cell_type": "markdown",
   "metadata": {},
   "source": [
    "### Batman v Superman: Dawn of Justice (2016)"
   ]
  },
  {
   "cell_type": "code",
   "execution_count": 536,
   "metadata": {
    "collapsed": false
   },
   "outputs": [
    {
     "data": {
      "text/html": [
       "<div>\n",
       "<table border=\"1\" class=\"dataframe\">\n",
       "  <thead>\n",
       "    <tr style=\"text-align: right;\">\n",
       "      <th></th>\n",
       "      <th>movie</th>\n",
       "      <th>count</th>\n",
       "      <th>id</th>\n",
       "    </tr>\n",
       "  </thead>\n",
       "  <tbody>\n",
       "    <tr>\n",
       "      <th>9913</th>\n",
       "      <td>Batman v Superman: Dawn of Justice (2016)</td>\n",
       "      <td>54</td>\n",
       "      <td>171798691881</td>\n",
       "    </tr>\n",
       "  </tbody>\n",
       "</table>\n",
       "</div>"
      ],
      "text/plain": [
       "                                          movie  count            id\n",
       "9913  Batman v Superman: Dawn of Justice (2016)     54  171798691881"
      ]
     },
     "execution_count": 536,
     "metadata": {},
     "output_type": "execute_result"
    }
   ],
   "source": [
    "movie_count[movie_count[\"movie\"]==\"Batman v Superman: Dawn of Justice (2016)\"]"
   ]
  },
  {
   "cell_type": "code",
   "execution_count": 621,
   "metadata": {
    "collapsed": false
   },
   "outputs": [
    {
     "data": {
      "text/html": [
       "<div>\n",
       "<table border=\"1\" class=\"dataframe\">\n",
       "  <thead>\n",
       "    <tr style=\"text-align: right;\">\n",
       "      <th></th>\n",
       "      <th>id</th>\n",
       "      <th>membership</th>\n",
       "      <th>movie</th>\n",
       "    </tr>\n",
       "  </thead>\n",
       "  <tbody>\n",
       "    <tr>\n",
       "      <th>9913</th>\n",
       "      <td>171798691881</td>\n",
       "      <td>6</td>\n",
       "      <td>Batman v Superman: Dawn of Justice (2016)</td>\n",
       "    </tr>\n",
       "  </tbody>\n",
       "</table>\n",
       "</div>"
      ],
      "text/plain": [
       "                id  membership                                      movie\n",
       "9913  171798691881           6  Batman v Superman: Dawn of Justice (2016)"
      ]
     },
     "execution_count": 621,
     "metadata": {},
     "output_type": "execute_result"
    }
   ],
   "source": [
    "id_member_movie[id_member_movie[\"id\"] == 171798691881]"
   ]
  },
  {
   "cell_type": "code",
   "execution_count": 606,
   "metadata": {
    "collapsed": false
   },
   "outputs": [],
   "source": [
    "#movie_count[movie_count[\"movie\"]==\"Batman v Superman: Dawn of Justice (2016)\"].loc[9913][\"id\"]"
   ]
  },
  {
   "cell_type": "code",
   "execution_count": 632,
   "metadata": {
    "collapsed": false
   },
   "outputs": [
    {
     "data": {
      "text/html": [
       "<div>\n",
       "<table border=\"1\" class=\"dataframe\">\n",
       "  <thead>\n",
       "    <tr style=\"text-align: right;\">\n",
       "      <th></th>\n",
       "      <th>movie1</th>\n",
       "      <th>movie2</th>\n",
       "      <th>weight</th>\n",
       "    </tr>\n",
       "  </thead>\n",
       "  <tbody>\n",
       "    <tr>\n",
       "      <th>295108</th>\n",
       "      <td>146028888145</td>\n",
       "      <td>171798691881</td>\n",
       "      <td>0.029851</td>\n",
       "    </tr>\n",
       "    <tr>\n",
       "      <th>295091</th>\n",
       "      <td>103079215430</td>\n",
       "      <td>171798691881</td>\n",
       "      <td>0.025974</td>\n",
       "    </tr>\n",
       "    <tr>\n",
       "      <th>295097</th>\n",
       "      <td>111669150137</td>\n",
       "      <td>171798691881</td>\n",
       "      <td>0.025000</td>\n",
       "    </tr>\n",
       "    <tr>\n",
       "      <th>295083</th>\n",
       "      <td>85899345959</td>\n",
       "      <td>171798691881</td>\n",
       "      <td>0.023529</td>\n",
       "    </tr>\n",
       "    <tr>\n",
       "      <th>295092</th>\n",
       "      <td>103079215572</td>\n",
       "      <td>171798691881</td>\n",
       "      <td>0.015873</td>\n",
       "    </tr>\n",
       "  </tbody>\n",
       "</table>\n",
       "</div>"
      ],
      "text/plain": [
       "              movie1        movie2    weight\n",
       "295108  146028888145  171798691881  0.029851\n",
       "295091  103079215430  171798691881  0.025974\n",
       "295097  111669150137  171798691881  0.025000\n",
       "295083   85899345959  171798691881  0.023529\n",
       "295092  103079215572  171798691881  0.015873"
      ]
     },
     "execution_count": 632,
     "metadata": {},
     "output_type": "execute_result"
    }
   ],
   "source": [
    "movie2_is_Batman = movie_pairs[movie_pairs[\"movie2\"]==171798691881]\n",
    "movie2_is_Batman.sort_values(by =\"weight\", ascending = False).head(5)"
   ]
  },
  {
   "cell_type": "code",
   "execution_count": 633,
   "metadata": {
    "collapsed": false
   },
   "outputs": [
    {
     "data": {
      "text/html": [
       "<div>\n",
       "<table border=\"1\" class=\"dataframe\">\n",
       "  <thead>\n",
       "    <tr style=\"text-align: right;\">\n",
       "      <th></th>\n",
       "      <th>movie1</th>\n",
       "      <th>movie2</th>\n",
       "      <th>weight</th>\n",
       "    </tr>\n",
       "  </thead>\n",
       "  <tbody>\n",
       "    <tr>\n",
       "      <th>4092847</th>\n",
       "      <td>171798691881</td>\n",
       "      <td>635655159914</td>\n",
       "      <td>0.074627</td>\n",
       "    </tr>\n",
       "    <tr>\n",
       "      <th>5626433</th>\n",
       "      <td>171798691881</td>\n",
       "      <td>738734375161</td>\n",
       "      <td>0.067416</td>\n",
       "    </tr>\n",
       "    <tr>\n",
       "      <th>5827922</th>\n",
       "      <td>171798691881</td>\n",
       "      <td>755914244177</td>\n",
       "      <td>0.046875</td>\n",
       "    </tr>\n",
       "    <tr>\n",
       "      <th>26975822</th>\n",
       "      <td>171798691881</td>\n",
       "      <td>1632087572807</td>\n",
       "      <td>0.045455</td>\n",
       "    </tr>\n",
       "    <tr>\n",
       "      <th>21293505</th>\n",
       "      <td>171798691881</td>\n",
       "      <td>1451698946319</td>\n",
       "      <td>0.045455</td>\n",
       "    </tr>\n",
       "  </tbody>\n",
       "</table>\n",
       "</div>"
      ],
      "text/plain": [
       "                movie1         movie2    weight\n",
       "4092847   171798691881   635655159914  0.074627\n",
       "5626433   171798691881   738734375161  0.067416\n",
       "5827922   171798691881   755914244177  0.046875\n",
       "26975822  171798691881  1632087572807  0.045455\n",
       "21293505  171798691881  1451698946319  0.045455"
      ]
     },
     "execution_count": 633,
     "metadata": {},
     "output_type": "execute_result"
    }
   ],
   "source": [
    "movie1_is_Batman = movie_pairs[movie_pairs[\"movie1\"]==171798691881]\n",
    "movie1_is_Batman.sort_values(by =\"weight\", ascending = False).head(5)"
   ]
  },
  {
   "cell_type": "code",
   "execution_count": 634,
   "metadata": {
    "collapsed": true
   },
   "outputs": [],
   "source": [
    "Batman_neighbor_top = movie1_is_Batman.sort_values(by =\"weight\", ascending = False).head(5)\n",
    "neighbors = np.array(Batman_neighbor_top[\"movie2\"]).tolist()\n",
    "id_member_movie = movie_id_membership[[\"id\",\"membership\",\"movie\"]]"
   ]
  },
  {
   "cell_type": "code",
   "execution_count": 637,
   "metadata": {
    "collapsed": false
   },
   "outputs": [
    {
     "name": "stderr",
     "output_type": "stream",
     "text": [
      "/Users/AlChen/anaconda/lib/python2.7/site-packages/ipykernel/__main__.py:2: SettingWithCopyWarning: \n",
      "A value is trying to be set on a copy of a slice from a DataFrame.\n",
      "Try using .loc[row_indexer,col_indexer] = value instead\n",
      "\n",
      "See the caveats in the documentation: http://pandas.pydata.org/pandas-docs/stable/indexing.html#indexing-view-versus-copy\n",
      "  from ipykernel import kernelapp as app\n"
     ]
    },
    {
     "data": {
      "text/html": [
       "<div>\n",
       "<table border=\"1\" class=\"dataframe\">\n",
       "  <thead>\n",
       "    <tr style=\"text-align: right;\">\n",
       "      <th></th>\n",
       "      <th>id</th>\n",
       "      <th>membership</th>\n",
       "      <th>movie</th>\n",
       "      <th>genre</th>\n",
       "    </tr>\n",
       "  </thead>\n",
       "  <tbody>\n",
       "    <tr>\n",
       "      <th>0</th>\n",
       "      <td>635655159914</td>\n",
       "      <td>6</td>\n",
       "      <td>Eloise (2015)</td>\n",
       "      <td>Thriller</td>\n",
       "    </tr>\n",
       "    <tr>\n",
       "      <th>1</th>\n",
       "      <td>738734375161</td>\n",
       "      <td>6</td>\n",
       "      <td>Man of Steel (2013)</td>\n",
       "      <td>Sci-Fi</td>\n",
       "    </tr>\n",
       "    <tr>\n",
       "      <th>2</th>\n",
       "      <td>755914244177</td>\n",
       "      <td>6</td>\n",
       "      <td>Demoted (2011)</td>\n",
       "      <td>Comedy</td>\n",
       "    </tr>\n",
       "    <tr>\n",
       "      <th>3</th>\n",
       "      <td>1451698946319</td>\n",
       "      <td>6</td>\n",
       "      <td>Love and Honor (2013)</td>\n",
       "      <td>War</td>\n",
       "    </tr>\n",
       "    <tr>\n",
       "      <th>4</th>\n",
       "      <td>1632087572807</td>\n",
       "      <td>6</td>\n",
       "      <td>Real Steel (2011)</td>\n",
       "      <td>Sport</td>\n",
       "    </tr>\n",
       "  </tbody>\n",
       "</table>\n",
       "</div>"
      ],
      "text/plain": [
       "              id  membership                  movie     genre\n",
       "0   635655159914           6          Eloise (2015)  Thriller\n",
       "1   738734375161           6    Man of Steel (2013)    Sci-Fi\n",
       "2   755914244177           6         Demoted (2011)    Comedy\n",
       "3  1451698946319           6  Love and Honor (2013)       War\n",
       "4  1632087572807           6      Real Steel (2011)     Sport"
      ]
     },
     "execution_count": 637,
     "metadata": {},
     "output_type": "execute_result"
    }
   ],
   "source": [
    "topfive = id_member_movie[id_member_movie[\"id\"].isin(neighbors)]\n",
    "topfive[\"movie\"]=topfive[\"movie\"].map(lambda x:movie_subname3(x))\n",
    "topfive.merge(movie_genre1,left_on=\"movie\",right_on=\"movie\",how = \"left\")#.drop(\"membership\",axis=1)"
   ]
  },
  {
   "cell_type": "markdown",
   "metadata": {},
   "source": [
    "### Mission: Impossible - Rogue Nation (2015)"
   ]
  },
  {
   "cell_type": "code",
   "execution_count": 529,
   "metadata": {
    "collapsed": false
   },
   "outputs": [
    {
     "data": {
      "text/html": [
       "<div>\n",
       "<table border=\"1\" class=\"dataframe\">\n",
       "  <thead>\n",
       "    <tr style=\"text-align: right;\">\n",
       "      <th></th>\n",
       "      <th>movie</th>\n",
       "      <th>count</th>\n",
       "      <th>id</th>\n",
       "    </tr>\n",
       "  </thead>\n",
       "  <tbody>\n",
       "    <tr>\n",
       "      <th>90114</th>\n",
       "      <td>Mission: Impossible - Rogue Nation (2015)</td>\n",
       "      <td>55</td>\n",
       "      <td>1563368096040</td>\n",
       "    </tr>\n",
       "  </tbody>\n",
       "</table>\n",
       "</div>"
      ],
      "text/plain": [
       "                                           movie  count             id\n",
       "90114  Mission: Impossible - Rogue Nation (2015)     55  1563368096040"
      ]
     },
     "execution_count": 529,
     "metadata": {},
     "output_type": "execute_result"
    }
   ],
   "source": [
    "movie_count[movie_count[\"movie\"]==\"Mission: Impossible - Rogue Nation (2015)\"]"
   ]
  },
  {
   "cell_type": "code",
   "execution_count": 622,
   "metadata": {
    "collapsed": false
   },
   "outputs": [
    {
     "data": {
      "text/html": [
       "<div>\n",
       "<table border=\"1\" class=\"dataframe\">\n",
       "  <thead>\n",
       "    <tr style=\"text-align: right;\">\n",
       "      <th></th>\n",
       "      <th>id</th>\n",
       "      <th>membership</th>\n",
       "      <th>movie</th>\n",
       "    </tr>\n",
       "  </thead>\n",
       "  <tbody>\n",
       "    <tr>\n",
       "      <th>90114</th>\n",
       "      <td>1563368096040</td>\n",
       "      <td>6</td>\n",
       "      <td>Mission: Impossible - Rogue Nation (2015)</td>\n",
       "    </tr>\n",
       "  </tbody>\n",
       "</table>\n",
       "</div>"
      ],
      "text/plain": [
       "                  id  membership                                      movie\n",
       "90114  1563368096040           6  Mission: Impossible - Rogue Nation (2015)"
      ]
     },
     "execution_count": 622,
     "metadata": {},
     "output_type": "execute_result"
    }
   ],
   "source": [
    "id_member_movie[id_member_movie[\"id\"] == 1563368096040]"
   ]
  },
  {
   "cell_type": "code",
   "execution_count": 607,
   "metadata": {
    "collapsed": false
   },
   "outputs": [
    {
     "data": {
      "text/html": [
       "<div>\n",
       "<table border=\"1\" class=\"dataframe\">\n",
       "  <thead>\n",
       "    <tr style=\"text-align: right;\">\n",
       "      <th></th>\n",
       "      <th>movie1</th>\n",
       "      <th>movie2</th>\n",
       "      <th>weight</th>\n",
       "    </tr>\n",
       "  </thead>\n",
       "  <tbody>\n",
       "    <tr>\n",
       "      <th>24744576</th>\n",
       "      <td>163208757380</td>\n",
       "      <td>1563368096040</td>\n",
       "      <td>0.129870</td>\n",
       "    </tr>\n",
       "    <tr>\n",
       "      <th>24744581</th>\n",
       "      <td>171798692139</td>\n",
       "      <td>1563368096040</td>\n",
       "      <td>0.098765</td>\n",
       "    </tr>\n",
       "    <tr>\n",
       "      <th>24744625</th>\n",
       "      <td>309237645603</td>\n",
       "      <td>1563368096040</td>\n",
       "      <td>0.094118</td>\n",
       "    </tr>\n",
       "    <tr>\n",
       "      <th>24744684</th>\n",
       "      <td>498216206651</td>\n",
       "      <td>1563368096040</td>\n",
       "      <td>0.089552</td>\n",
       "    </tr>\n",
       "    <tr>\n",
       "      <th>24744560</th>\n",
       "      <td>77309411587</td>\n",
       "      <td>1563368096040</td>\n",
       "      <td>0.088000</td>\n",
       "    </tr>\n",
       "  </tbody>\n",
       "</table>\n",
       "</div>"
      ],
      "text/plain": [
       "                movie1         movie2    weight\n",
       "24744576  163208757380  1563368096040  0.129870\n",
       "24744581  171798692139  1563368096040  0.098765\n",
       "24744625  309237645603  1563368096040  0.094118\n",
       "24744684  498216206651  1563368096040  0.089552\n",
       "24744560   77309411587  1563368096040  0.088000"
      ]
     },
     "execution_count": 607,
     "metadata": {},
     "output_type": "execute_result"
    }
   ],
   "source": [
    "movie2_is_Mission = movie_pairs[movie_pairs[\"movie2\"]==1563368096040]\n",
    "movie2_is_Mission.sort_values(by =\"weight\", ascending = False).head(5)"
   ]
  },
  {
   "cell_type": "code",
   "execution_count": 608,
   "metadata": {
    "collapsed": false
   },
   "outputs": [
    {
     "data": {
      "text/html": [
       "<div>\n",
       "<table border=\"1\" class=\"dataframe\">\n",
       "  <thead>\n",
       "    <tr style=\"text-align: right;\">\n",
       "      <th></th>\n",
       "      <th>movie1</th>\n",
       "      <th>movie2</th>\n",
       "      <th>weight</th>\n",
       "    </tr>\n",
       "  </thead>\n",
       "  <tbody>\n",
       "    <tr>\n",
       "      <th>26409378</th>\n",
       "      <td>1563368096040</td>\n",
       "      <td>1614907703603</td>\n",
       "      <td>0.056338</td>\n",
       "    </tr>\n",
       "    <tr>\n",
       "      <th>26627602</th>\n",
       "      <td>1563368096040</td>\n",
       "      <td>1623497638076</td>\n",
       "      <td>0.050633</td>\n",
       "    </tr>\n",
       "    <tr>\n",
       "      <th>28419827</th>\n",
       "      <td>1563368096040</td>\n",
       "      <td>1675037245673</td>\n",
       "      <td>0.042857</td>\n",
       "    </tr>\n",
       "    <tr>\n",
       "      <th>29717754</th>\n",
       "      <td>1563368096040</td>\n",
       "      <td>1709396984248</td>\n",
       "      <td>0.027778</td>\n",
       "    </tr>\n",
       "    <tr>\n",
       "      <th>26515122</th>\n",
       "      <td>1563368096040</td>\n",
       "      <td>1614907703787</td>\n",
       "      <td>0.023256</td>\n",
       "    </tr>\n",
       "  </tbody>\n",
       "</table>\n",
       "</div>"
      ],
      "text/plain": [
       "                 movie1         movie2    weight\n",
       "26409378  1563368096040  1614907703603  0.056338\n",
       "26627602  1563368096040  1623497638076  0.050633\n",
       "28419827  1563368096040  1675037245673  0.042857\n",
       "29717754  1563368096040  1709396984248  0.027778\n",
       "26515122  1563368096040  1614907703787  0.023256"
      ]
     },
     "execution_count": 608,
     "metadata": {},
     "output_type": "execute_result"
    }
   ],
   "source": [
    "movie1_is_Mission = movie_pairs[movie_pairs[\"movie1\"]==1563368096040]\n",
    "movie1_is_Mission.sort_values(by =\"weight\", ascending = False).head(5)"
   ]
  },
  {
   "cell_type": "code",
   "execution_count": 638,
   "metadata": {
    "collapsed": true
   },
   "outputs": [],
   "source": [
    "Mission_neighbor_top = movie2_is_Mission.sort_values(by =\"weight\", ascending = False).head(5)\n",
    "neighbors = np.array(Mission_neighbor_top[\"movie1\"]).tolist()\n",
    "id_member_movie = movie_id_membership[[\"id\",\"membership\",\"movie\"]]"
   ]
  },
  {
   "cell_type": "code",
   "execution_count": 639,
   "metadata": {
    "collapsed": false
   },
   "outputs": [
    {
     "name": "stderr",
     "output_type": "stream",
     "text": [
      "/Users/AlChen/anaconda/lib/python2.7/site-packages/ipykernel/__main__.py:2: SettingWithCopyWarning: \n",
      "A value is trying to be set on a copy of a slice from a DataFrame.\n",
      "Try using .loc[row_indexer,col_indexer] = value instead\n",
      "\n",
      "See the caveats in the documentation: http://pandas.pydata.org/pandas-docs/stable/indexing.html#indexing-view-versus-copy\n",
      "  from ipykernel import kernelapp as app\n"
     ]
    },
    {
     "data": {
      "text/html": [
       "<div>\n",
       "<table border=\"1\" class=\"dataframe\">\n",
       "  <thead>\n",
       "    <tr style=\"text-align: right;\">\n",
       "      <th></th>\n",
       "      <th>id</th>\n",
       "      <th>membership</th>\n",
       "      <th>movie</th>\n",
       "      <th>genre</th>\n",
       "    </tr>\n",
       "  </thead>\n",
       "  <tbody>\n",
       "    <tr>\n",
       "      <th>0</th>\n",
       "      <td>77309411587</td>\n",
       "      <td>6</td>\n",
       "      <td>Muppets Most Wanted (2014)</td>\n",
       "      <td>Musical</td>\n",
       "    </tr>\n",
       "    <tr>\n",
       "      <th>1</th>\n",
       "      <td>163208757380</td>\n",
       "      <td>6</td>\n",
       "      <td>Fan (2015)</td>\n",
       "      <td>Drama</td>\n",
       "    </tr>\n",
       "    <tr>\n",
       "      <th>2</th>\n",
       "      <td>171798692139</td>\n",
       "      <td>6</td>\n",
       "      <td>Now You See Me: The Second Act (2016)</td>\n",
       "      <td>Thriller</td>\n",
       "    </tr>\n",
       "    <tr>\n",
       "      <th>3</th>\n",
       "      <td>309237645603</td>\n",
       "      <td>6</td>\n",
       "      <td>Phantom (2015)</td>\n",
       "      <td>Thriller</td>\n",
       "    </tr>\n",
       "    <tr>\n",
       "      <th>4</th>\n",
       "      <td>498216206651</td>\n",
       "      <td>6</td>\n",
       "      <td>Patient Zero (2015)</td>\n",
       "      <td>Horror</td>\n",
       "    </tr>\n",
       "  </tbody>\n",
       "</table>\n",
       "</div>"
      ],
      "text/plain": [
       "             id  membership                                  movie     genre\n",
       "0   77309411587           6             Muppets Most Wanted (2014)   Musical\n",
       "1  163208757380           6                             Fan (2015)     Drama\n",
       "2  171798692139           6  Now You See Me: The Second Act (2016)  Thriller\n",
       "3  309237645603           6                         Phantom (2015)  Thriller\n",
       "4  498216206651           6                    Patient Zero (2015)    Horror"
      ]
     },
     "execution_count": 639,
     "metadata": {},
     "output_type": "execute_result"
    }
   ],
   "source": [
    "topfive = id_member_movie[id_member_movie[\"id\"].isin(neighbors)]\n",
    "topfive[\"movie\"]=topfive[\"movie\"].map(lambda x:movie_subname3(x))\n",
    "topfive.merge(movie_genre1,left_on=\"movie\",right_on=\"movie\",how = \"left\")#.drop(\"membership\",axis=1)"
   ]
  },
  {
   "cell_type": "markdown",
   "metadata": {},
   "source": [
    "### Minions (2015)"
   ]
  },
  {
   "cell_type": "code",
   "execution_count": 614,
   "metadata": {
    "collapsed": false
   },
   "outputs": [
    {
     "data": {
      "text/html": [
       "<div>\n",
       "<table border=\"1\" class=\"dataframe\">\n",
       "  <thead>\n",
       "    <tr style=\"text-align: right;\">\n",
       "      <th></th>\n",
       "      <th>movie</th>\n",
       "      <th>count</th>\n",
       "      <th>id</th>\n",
       "    </tr>\n",
       "  </thead>\n",
       "  <tbody>\n",
       "    <tr>\n",
       "      <th>79152</th>\n",
       "      <td>Minions (2015)  (voice)</td>\n",
       "      <td>18</td>\n",
       "      <td>1374389534996</td>\n",
       "    </tr>\n",
       "  </tbody>\n",
       "</table>\n",
       "</div>"
      ],
      "text/plain": [
       "                         movie  count             id\n",
       "79152  Minions (2015)  (voice)     18  1374389534996"
      ]
     },
     "execution_count": 614,
     "metadata": {},
     "output_type": "execute_result"
    }
   ],
   "source": [
    "movie_count[movie_count[\"movie\"]==\"Minions (2015)  (voice)\"]"
   ]
  },
  {
   "cell_type": "code",
   "execution_count": 623,
   "metadata": {
    "collapsed": false
   },
   "outputs": [
    {
     "data": {
      "text/html": [
       "<div>\n",
       "<table border=\"1\" class=\"dataframe\">\n",
       "  <thead>\n",
       "    <tr style=\"text-align: right;\">\n",
       "      <th></th>\n",
       "      <th>id</th>\n",
       "      <th>membership</th>\n",
       "      <th>movie</th>\n",
       "    </tr>\n",
       "  </thead>\n",
       "  <tbody>\n",
       "    <tr>\n",
       "      <th>79152</th>\n",
       "      <td>1374389534996</td>\n",
       "      <td>6</td>\n",
       "      <td>Minions (2015)  (voice)</td>\n",
       "    </tr>\n",
       "  </tbody>\n",
       "</table>\n",
       "</div>"
      ],
      "text/plain": [
       "                  id  membership                    movie\n",
       "79152  1374389534996           6  Minions (2015)  (voice)"
      ]
     },
     "execution_count": 623,
     "metadata": {},
     "output_type": "execute_result"
    }
   ],
   "source": [
    "id_member_movie[id_member_movie[\"id\"] == 1374389534996]"
   ]
  },
  {
   "cell_type": "code",
   "execution_count": null,
   "metadata": {
    "collapsed": true
   },
   "outputs": [],
   "source": [
    "id_member_movie = movie_id_membership[[\"id\",\"membership\",\"movie\"]]"
   ]
  },
  {
   "cell_type": "code",
   "execution_count": 615,
   "metadata": {
    "collapsed": false
   },
   "outputs": [
    {
     "data": {
      "text/html": [
       "<div>\n",
       "<table border=\"1\" class=\"dataframe\">\n",
       "  <thead>\n",
       "    <tr style=\"text-align: right;\">\n",
       "      <th></th>\n",
       "      <th>movie1</th>\n",
       "      <th>movie2</th>\n",
       "      <th>weight</th>\n",
       "    </tr>\n",
       "  </thead>\n",
       "  <tbody>\n",
       "    <tr>\n",
       "      <th>19080641</th>\n",
       "      <td>515396075930</td>\n",
       "      <td>1374389534996</td>\n",
       "      <td>0.303030</td>\n",
       "    </tr>\n",
       "    <tr>\n",
       "      <th>19080629</th>\n",
       "      <td>472446402736</td>\n",
       "      <td>1374389534996</td>\n",
       "      <td>0.275862</td>\n",
       "    </tr>\n",
       "    <tr>\n",
       "      <th>19080846</th>\n",
       "      <td>1348619731379</td>\n",
       "      <td>1374389534996</td>\n",
       "      <td>0.259259</td>\n",
       "    </tr>\n",
       "    <tr>\n",
       "      <th>19080807</th>\n",
       "      <td>1168231104898</td>\n",
       "      <td>1374389534996</td>\n",
       "      <td>0.257143</td>\n",
       "    </tr>\n",
       "    <tr>\n",
       "      <th>19080758</th>\n",
       "      <td>987842478223</td>\n",
       "      <td>1374389534996</td>\n",
       "      <td>0.235294</td>\n",
       "    </tr>\n",
       "  </tbody>\n",
       "</table>\n",
       "</div>"
      ],
      "text/plain": [
       "                 movie1         movie2    weight\n",
       "19080641   515396075930  1374389534996  0.303030\n",
       "19080629   472446402736  1374389534996  0.275862\n",
       "19080846  1348619731379  1374389534996  0.259259\n",
       "19080807  1168231104898  1374389534996  0.257143\n",
       "19080758   987842478223  1374389534996  0.235294"
      ]
     },
     "execution_count": 615,
     "metadata": {},
     "output_type": "execute_result"
    }
   ],
   "source": [
    "movie2_is_Minions = movie_pairs[movie_pairs[\"movie2\"]==1374389534996]\n",
    "movie2_is_Minions.sort_values(by =\"weight\", ascending = False).head(5)"
   ]
  },
  {
   "cell_type": "code",
   "execution_count": 617,
   "metadata": {
    "collapsed": false
   },
   "outputs": [
    {
     "data": {
      "text/html": [
       "<div>\n",
       "<table border=\"1\" class=\"dataframe\">\n",
       "  <thead>\n",
       "    <tr style=\"text-align: right;\">\n",
       "      <th></th>\n",
       "      <th>movie1</th>\n",
       "      <th>movie2</th>\n",
       "      <th>weight</th>\n",
       "    </tr>\n",
       "  </thead>\n",
       "  <tbody>\n",
       "    <tr>\n",
       "      <th>22997043</th>\n",
       "      <td>1374389534996</td>\n",
       "      <td>1503238554059</td>\n",
       "      <td>0.233333</td>\n",
       "    </tr>\n",
       "    <tr>\n",
       "      <th>24922260</th>\n",
       "      <td>1374389534996</td>\n",
       "      <td>1571958030427</td>\n",
       "      <td>0.189189</td>\n",
       "    </tr>\n",
       "    <tr>\n",
       "      <th>25824225</th>\n",
       "      <td>1374389534996</td>\n",
       "      <td>1597727834358</td>\n",
       "      <td>0.166667</td>\n",
       "    </tr>\n",
       "    <tr>\n",
       "      <th>19615764</th>\n",
       "      <td>1374389534996</td>\n",
       "      <td>1391569404340</td>\n",
       "      <td>0.102564</td>\n",
       "    </tr>\n",
       "    <tr>\n",
       "      <th>26332678</th>\n",
       "      <td>1374389534996</td>\n",
       "      <td>1614907703467</td>\n",
       "      <td>0.096154</td>\n",
       "    </tr>\n",
       "  </tbody>\n",
       "</table>\n",
       "</div>"
      ],
      "text/plain": [
       "                 movie1         movie2    weight\n",
       "22997043  1374389534996  1503238554059  0.233333\n",
       "24922260  1374389534996  1571958030427  0.189189\n",
       "25824225  1374389534996  1597727834358  0.166667\n",
       "19615764  1374389534996  1391569404340  0.102564\n",
       "26332678  1374389534996  1614907703467  0.096154"
      ]
     },
     "execution_count": 617,
     "metadata": {},
     "output_type": "execute_result"
    }
   ],
   "source": [
    "movie1_is_Minions = movie_pairs[movie_pairs[\"movie1\"]==1374389534996]\n",
    "movie1_is_Minions.sort_values(by =\"weight\", ascending = False).head(5)"
   ]
  },
  {
   "cell_type": "code",
   "execution_count": 640,
   "metadata": {
    "collapsed": true
   },
   "outputs": [],
   "source": [
    "Minions_neighbor_top = movie2_is_Minions.sort_values(by =\"weight\", ascending = False).head(5)\n",
    "neighbors = np.array(Minions_neighbor_top[\"movie1\"]).tolist()\n",
    "id_member_movie = movie_id_membership[[\"id\",\"membership\",\"movie\"]]"
   ]
  },
  {
   "cell_type": "code",
   "execution_count": 641,
   "metadata": {
    "collapsed": false
   },
   "outputs": [
    {
     "name": "stderr",
     "output_type": "stream",
     "text": [
      "/Users/AlChen/anaconda/lib/python2.7/site-packages/ipykernel/__main__.py:2: SettingWithCopyWarning: \n",
      "A value is trying to be set on a copy of a slice from a DataFrame.\n",
      "Try using .loc[row_indexer,col_indexer] = value instead\n",
      "\n",
      "See the caveats in the documentation: http://pandas.pydata.org/pandas-docs/stable/indexing.html#indexing-view-versus-copy\n",
      "  from ipykernel import kernelapp as app\n"
     ]
    },
    {
     "data": {
      "text/html": [
       "<div>\n",
       "<table border=\"1\" class=\"dataframe\">\n",
       "  <thead>\n",
       "    <tr style=\"text-align: right;\">\n",
       "      <th></th>\n",
       "      <th>id</th>\n",
       "      <th>membership</th>\n",
       "      <th>movie</th>\n",
       "      <th>genre</th>\n",
       "    </tr>\n",
       "  </thead>\n",
       "  <tbody>\n",
       "    <tr>\n",
       "      <th>0</th>\n",
       "      <td>472446402736</td>\n",
       "      <td>6</td>\n",
       "      <td>Inside Out (2015)</td>\n",
       "      <td>Family</td>\n",
       "    </tr>\n",
       "    <tr>\n",
       "      <th>1</th>\n",
       "      <td>515396075930</td>\n",
       "      <td>6</td>\n",
       "      <td>The Lorax (2012)</td>\n",
       "      <td>Fantasy</td>\n",
       "    </tr>\n",
       "    <tr>\n",
       "      <th>2</th>\n",
       "      <td>987842478223</td>\n",
       "      <td>6</td>\n",
       "      <td>Gake no ue no Ponyo (2008)</td>\n",
       "      <td>Fantasy</td>\n",
       "    </tr>\n",
       "    <tr>\n",
       "      <th>3</th>\n",
       "      <td>1168231104898</td>\n",
       "      <td>6</td>\n",
       "      <td>Surf's Up (2007)</td>\n",
       "      <td>Sport</td>\n",
       "    </tr>\n",
       "    <tr>\n",
       "      <th>4</th>\n",
       "      <td>1348619731379</td>\n",
       "      <td>6</td>\n",
       "      <td>Up (2009)</td>\n",
       "      <td>Adventure</td>\n",
       "    </tr>\n",
       "  </tbody>\n",
       "</table>\n",
       "</div>"
      ],
      "text/plain": [
       "              id  membership                       movie      genre\n",
       "0   472446402736           6           Inside Out (2015)     Family\n",
       "1   515396075930           6            The Lorax (2012)    Fantasy\n",
       "2   987842478223           6  Gake no ue no Ponyo (2008)    Fantasy\n",
       "3  1168231104898           6            Surf's Up (2007)      Sport\n",
       "4  1348619731379           6                   Up (2009)  Adventure"
      ]
     },
     "execution_count": 641,
     "metadata": {},
     "output_type": "execute_result"
    }
   ],
   "source": [
    "topfive = id_member_movie[id_member_movie[\"id\"].isin(neighbors)]\n",
    "topfive[\"movie\"]=topfive[\"movie\"].map(lambda x:movie_subname3(x))\n",
    "topfive.merge(movie_genre1,left_on=\"movie\",right_on=\"movie\",how = \"left\")#.drop(\"membership\",axis=1)"
   ]
  }
 ],
 "metadata": {
  "anaconda-cloud": {},
  "kernelspec": {
   "display_name": "Python [default]",
   "language": "python",
   "name": "python2"
  },
  "language_info": {
   "codemirror_mode": {
    "name": "ipython",
    "version": 2
   },
   "file_extension": ".py",
   "mimetype": "text/x-python",
   "name": "python",
   "nbconvert_exporter": "python",
   "pygments_lexer": "ipython2",
   "version": "2.7.12"
  }
 },
 "nbformat": 4,
 "nbformat_minor": 1
}
