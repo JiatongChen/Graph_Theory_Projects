{
 "cells": [
  {
   "cell_type": "markdown",
   "metadata": {},
   "source": [
    "# Question 4"
   ]
  },
  {
   "cell_type": "code",
   "execution_count": 1,
   "metadata": {
    "collapsed": false
   },
   "outputs": [],
   "source": [
    "import pandas as pd\n",
    "from pyspark import SparkContext\n",
    "from pyspark.sql import SparkSession\n",
    "from pyspark.sql import functions as F\n",
    "from pyspark.sql.functions import udf\n",
    "from pyspark.sql.types import *\n",
    "import numpy as np\n",
    "import itertools\n",
    "## Explore all spark types\n",
    "#from pyspark.sql.types import StructField, StructType, ByteType, DoubleType, DecimalType, StringType, ArrayType, IntegerType"
   ]
  },
  {
   "cell_type": "code",
   "execution_count": 2,
   "metadata": {
    "collapsed": false
   },
   "outputs": [],
   "source": [
    "#sc=SparkContext()\n",
    "#spark=SparkSession(sc)\n",
    "\n",
    "# Read actor_movies.txt and actress_movies.txt, filter out actors and actresses with less than 10 movies\n",
    "actor_context=sc.textFile(\"actor_movies.txt\")\n",
    "actor_movies=actor_context.map(lambda x:x.split(\"\\t\\t\")).filter(lambda x:len(x)>10).map(lambda x:[x[0],x[1:]])\n",
    "actress_context=sc.textFile(\"actress_movies.txt\")\n",
    "actress_movies=actress_context.map(lambda x:x.split(\"\\t\\t\")).filter(lambda x:len(x)>10).map(lambda x:[x[0],x[1:]])\n",
    "name_movie=actor_movies.union(actress_movies)\n",
    "# flatmap all movies correspond to each name, get an one name to one movie object\n",
    "name1_movie1 = name_movie.flatMap(lambda (name,movie):[[name.strip(),movie[i].strip()] for i in range(len(movie))])"
   ]
  },
  {
   "cell_type": "code",
   "execution_count": 3,
   "metadata": {
    "collapsed": true
   },
   "outputs": [],
   "source": [
    "# transform name1_movie1 to spark dataframe name1_movie1_df to perform groupby operation\n",
    "name1_movie1_scheme = StructType([\n",
    "     StructField('Name', StringType(), True),\n",
    "     StructField('Movie', StringType(), True)\n",
    "    ])\n",
    "name1_movie1_df = name1_movie1.toDF(schema=name1_movie1_scheme)"
   ]
  },
  {
   "cell_type": "code",
   "execution_count": 4,
   "metadata": {
    "collapsed": true
   },
   "outputs": [],
   "source": [
    "# after groupby, get one movie to all names correspondence\n",
    "name_movie1_df = name1_movie1_df.groupBy(\"Movie\").agg(F.collect_list(\"Name\").alias(\"Name\"))"
   ]
  },
  {
   "cell_type": "code",
   "execution_count": 5,
   "metadata": {
    "collapsed": false
   },
   "outputs": [
    {
     "data": {
      "text/plain": [
       "[Row(Movie=u'#28 (2002)', Name=[u'Fitzpatrick, Greg (I)', u'Niemi, Laura'])]"
      ]
     },
     "execution_count": 5,
     "metadata": {},
     "output_type": "execute_result"
    }
   ],
   "source": [
    "name_movie1_df.take(1)"
   ]
  },
  {
   "cell_type": "code",
   "execution_count": 6,
   "metadata": {
    "collapsed": false
   },
   "outputs": [
    {
     "data": {
      "text/plain": [
       "98749"
      ]
     },
     "execution_count": 6,
     "metadata": {},
     "output_type": "execute_result"
    }
   ],
   "source": [
    "# filter out movies with less than 10 actors and actresses\n",
    "movie1_name_df = name_movie1_df.filter(F.size(\"Name\")> 9 ) \n",
    "movie1_name_df.count()"
   ]
  },
  {
   "cell_type": "code",
   "execution_count": 7,
   "metadata": {
    "collapsed": false
   },
   "outputs": [],
   "source": [
    "# count how many actors and actresses each movie has\n",
    "movie_count_df = movie1_name_df.withColumn(\"Count\", F.size(\"Name\")).select([\"Movie\",\"Count\"])"
   ]
  },
  {
   "cell_type": "code",
   "execution_count": 8,
   "metadata": {
    "collapsed": false
   },
   "outputs": [
    {
     "name": "stdout",
     "output_type": "stream",
     "text": [
      "+--------------------+-----+\n",
      "|               Movie|Count|\n",
      "+--------------------+-----+\n",
      "| 10 Attitudes (2001)|   12|\n",
      "|101 Reykjav�k (2000)|   11|\n",
      "|12 Years a Slave ...|   20|\n",
      "|22 Jump Street (2...|   22|\n",
      "|45 Fathers (1937)...|   29|\n",
      "+--------------------+-----+\n",
      "only showing top 5 rows\n",
      "\n"
     ]
    }
   ],
   "source": [
    "movie_count_df.show(5)"
   ]
  },
  {
   "cell_type": "code",
   "execution_count": 11,
   "metadata": {
    "collapsed": false
   },
   "outputs": [
    {
     "data": {
      "text/plain": [
       "[Row(Movie=u'10 Attitudes (2001)', Name=[u'Armas, Adrian', u'Bullock, Jim J.', u'Crowley, Ben (I)', u'Faustino, David', u'Fehsenfeld, Danny', u'Hara, Mitch', u'Kanan, Sean', u'Stuart, Jason (I)', u'Swann, Garrett', u'Vilanch, Bruce', u'Paul, Alexandra (III)', u'Tenuta, Judy']),\n",
       " Row(Movie=u'101 Reykjav\\ufffdk (2000)', Name=[u'Einarsson, P\\ufffdtur (I)', u'Eyj\\ufffdlfsson, Gunnar', u'Gunnarsson, \\ufffdr\\ufffdstur Le\\ufffd', u'Gu\\ufffdnason, Hilmir Sn\\ufffdr', u'Jonsson, Hilmar', u'Korm\\ufffdkur, Baltasar', u'Sigur\\ufffdarson, J\\ufffdhann', u'\\ufffdlafsson, \\ufffdlafur Darri', u'Abril, Victoria', u'Backman, Edda Heidr\\ufffdn', u'Karlsd\\ufffdttir, Hanna Mar\\ufffda']),\n",
       " Row(Movie=u'12 Years a Slave (2013)  (uncredited)', Name=[u'Arthur, Jon (II)', u'Braud, Sean Paul', u'Causin, Joseph Randy', u'Clare, Edward J.', u'Joyce, Mark (IV)', u'Klein, John C.', u'LeBlanc, Elton', u\"Lewis, Gerard 'Jerry'\", u'Montgomery, Ritchie', u'Parsons, Shawn', u'P\\ufffdre, Wayne', u'Smith, Chaz', u'Tureaud, Tre', u'Walker, Bob (XIV)', u'Wyant, Timothy', u'Creppel, Haylie', u'Haley, Emily D.', u'LeBlanc, Cynthia', u'Negga, Ruth', u'Russell, Katherine Jeanie'])]"
      ]
     },
     "execution_count": 11,
     "metadata": {},
     "output_type": "execute_result"
    }
   ],
   "source": [
    "# transform movie1_name_df to rdd format in order to flatmap\n",
    "movie1_name = movie1_name_df.rdd\n",
    "movie1_name.take(3)"
   ]
  },
  {
   "cell_type": "code",
   "execution_count": 12,
   "metadata": {
    "collapsed": false
   },
   "outputs": [],
   "source": [
    "# after this flatmap, we get one movie to one name correspondence. Now this new RDD is difference than previous \n",
    "# name1_movie1 because we have filtered out some movies will less than 10 actors and actresses\n",
    "movie1_name1_2 = movie1_name.flatMap(lambda (movie,name):[[movie.strip(),name[i].strip()] for i in range(len(name))])"
   ]
  },
  {
   "cell_type": "code",
   "execution_count": 14,
   "metadata": {
    "collapsed": false
   },
   "outputs": [],
   "source": [
    "# transform to dataframe to groupby name\n",
    "name1_movie1_2_scheme = StructType([\n",
    "     StructField('Movie', StringType(), True),\n",
    "     StructField('Name', StringType(), True)\n",
    "    ])\n",
    "movie1_name1_2_df = movie1_name1_2.toDF(schema=name1_movie1_2_scheme)\n",
    "name1_movie_2_df = movie1_name1_2_df.groupBy(\"Name\").agg(F.collect_list(\"Movie\").alias(\"Movie\"))"
   ]
  },
  {
   "cell_type": "code",
   "execution_count": 15,
   "metadata": {
    "collapsed": false
   },
   "outputs": [
    {
     "name": "stdout",
     "output_type": "stream",
     "text": [
      "+--------------------+--------------------+\n",
      "|                Name|               Movie|\n",
      "+--------------------+--------------------+\n",
      "|      Aabel, Per (I)|[Et sp�kelse fore...|\n",
      "|     Abascal, Margot|[On a tr�s peu d'...|\n",
      "|Abramson, Nicole (I)|[Valentine's Day ...|\n",
      "+--------------------+--------------------+\n",
      "only showing top 3 rows\n",
      "\n"
     ]
    }
   ],
   "source": [
    "name1_movie_2_df.show(3)"
   ]
  },
  {
   "cell_type": "code",
   "execution_count": 16,
   "metadata": {
    "collapsed": true
   },
   "outputs": [],
   "source": [
    "# transfrom back to RDD to perform flatMap, get one name to all movies objects. \n",
    "# Then for each name, find movie pairs\n",
    "# Finally, for each movie pair, find number of common actors and actresses\n",
    "name1_movie_2 = name1_movie_2_df.rdd\n",
    "movie_pairs = name1_movie_2.flatMap(lambda (name,movie): itertools.combinations(movie,2) )\n",
    "movie_pairs = movie_pairs.map(lambda x:(x,1))\n",
    "movie_pairs = movie_pairs.reduceByKey(lambda a,b : a+b)\n",
    "movie_pairs = movie_pairs.map(lambda ((m1,m2),count):(m1,m2,count))"
   ]
  },
  {
   "cell_type": "code",
   "execution_count": 17,
   "metadata": {
    "collapsed": false
   },
   "outputs": [
    {
     "data": {
      "text/plain": [
       "[(u'Mein Herz darfst du nicht fragen (1952)',\n",
       "  u'Nach Regen scheint Sonne (1949)',\n",
       "  1),\n",
       " (u'Kichamani M.B.A. (2007)', u'Unnikrishnante Adyathe Christmas (1989)', 1),\n",
       " (u\"I megali stigmi tou '21: Papaflessas (1971)\",\n",
       "  u'Antes llega la muerte (1964)',\n",
       "  1)]"
      ]
     },
     "execution_count": 17,
     "metadata": {},
     "output_type": "execute_result"
    }
   ],
   "source": [
    "movie_pairs.take(3)"
   ]
  },
  {
   "cell_type": "code",
   "execution_count": 18,
   "metadata": {
    "collapsed": true
   },
   "outputs": [],
   "source": [
    "# transform it to dataframe to perform join action\n",
    "movie_pairs_scheme = StructType([\n",
    "     StructField('Movie1', StringType(), True),\n",
    "     StructField('Movie2', StringType(), True),\n",
    "     StructField('IntersectCount', IntegerType(), True)\n",
    "    ])\n",
    "movie_pairs_df = movie_pairs.toDF(schema=movie_pairs_scheme)"
   ]
  },
  {
   "cell_type": "code",
   "execution_count": 19,
   "metadata": {
    "collapsed": false
   },
   "outputs": [],
   "source": [
    "# label all movies with unique id\n",
    "movie_count_df=movie_count_df.withColumn(\"id\",F.monotonically_increasing_id())"
   ]
  },
  {
   "cell_type": "code",
   "execution_count": 20,
   "metadata": {
    "collapsed": false
   },
   "outputs": [
    {
     "data": {
      "text/plain": [
       "98749"
      ]
     },
     "execution_count": 20,
     "metadata": {},
     "output_type": "execute_result"
    }
   ],
   "source": [
    "movie_count_df.count()"
   ]
  },
  {
   "cell_type": "code",
   "execution_count": 198,
   "metadata": {
    "collapsed": false
   },
   "outputs": [
    {
     "name": "stdout",
     "output_type": "stream",
     "text": [
      "+--------------------+-----+---+\n",
      "|               Movie|Count| id|\n",
      "+--------------------+-----+---+\n",
      "|'G' Men (1935)  (...|   45|  0|\n",
      "|  12 stulev (1971)  |   18|  1|\n",
      "|       1408 (2007)  |   20|  2|\n",
      "|22 Jump Street (2...|   44|  3|\n",
      "|3's a Couple (201...|   12|  4|\n",
      "+--------------------+-----+---+\n",
      "only showing top 5 rows\n",
      "\n"
     ]
    }
   ],
   "source": [
    "movie_count_df.show(5)"
   ]
  },
  {
   "cell_type": "code",
   "execution_count": 21,
   "metadata": {
    "collapsed": false
   },
   "outputs": [
    {
     "name": "stdout",
     "output_type": "stream",
     "text": [
      "root\n",
      " |-- Movie: string (nullable = true)\n",
      " |-- Count: integer (nullable = false)\n",
      " |-- id: long (nullable = false)\n",
      "\n"
     ]
    }
   ],
   "source": [
    "movie_count_df.printSchema()"
   ]
  },
  {
   "cell_type": "code",
   "execution_count": 22,
   "metadata": {
    "collapsed": false
   },
   "outputs": [],
   "source": [
    "movie_count_df.write.csv(\"movie_count\")"
   ]
  },
  {
   "cell_type": "code",
   "execution_count": 23,
   "metadata": {
    "collapsed": false
   },
   "outputs": [
    {
     "data": {
      "text/plain": [
       "0"
      ]
     },
     "execution_count": 23,
     "metadata": {},
     "output_type": "execute_result"
    }
   ],
   "source": [
    "os.system(\"cat /Users/AlChen/Desktop/EE232E_proj2/project_2_data/movie_count.csv/p* > /Users/AlChen/Desktop/EE232E_proj2/project_2_data/movie_count.csv/test.csv\")"
   ]
  },
  {
   "cell_type": "code",
   "execution_count": 24,
   "metadata": {
    "collapsed": false
   },
   "outputs": [
    {
     "data": {
      "text/plain": [
       "29766038"
      ]
     },
     "execution_count": 24,
     "metadata": {},
     "output_type": "execute_result"
    }
   ],
   "source": [
    "movie_pairs_df.count()"
   ]
  },
  {
   "cell_type": "code",
   "execution_count": 25,
   "metadata": {
    "collapsed": false
   },
   "outputs": [],
   "source": [
    "# join movie_count_df twice to movie_pairs_df\n",
    "cond1=[movie_pairs_df.Movie1==movie_count_df.Movie]\n",
    "pairs_1 = movie_pairs_df.join(movie_count_df,on=cond1,how=\"inner\")\n",
    "pairs_1=pairs_1.withColumnRenamed(\"Count\",\"Count1\").withColumnRenamed(\"id\",\"id1\")\n",
    "pairs_1 = pairs_1.drop(\"Movie\")\n",
    "cond2=[pairs_1.Movie2==movie_count_df.Movie]\n",
    "pairs_2 = pairs_1.join(movie_count_df,on=cond2,how=\"inner\")\n",
    "pairs = pairs_2.withColumnRenamed(\"Count\",\"Count2\").withColumnRenamed(\"id\",\"id2\").drop(\"Movie\")"
   ]
  },
  {
   "cell_type": "code",
   "execution_count": 161,
   "metadata": {
    "collapsed": false
   },
   "outputs": [
    {
     "name": "stdout",
     "output_type": "stream",
     "text": [
      "+--------------------+--------------------+--------------+--------------------+-----+\n",
      "|              Movie1|              Movie2|IntersectCount|               Movie|Count|\n",
      "+--------------------+--------------------+--------------+--------------------+-----+\n",
      "|A k�sz�v� ember f...|A tettes ismeretl...|             2|A k�sz�v� ember f...|   24|\n",
      "|A k�sz�v� ember f...|   Visszaes�k (1983)|             2|A k�sz�v� ember f...|   24|\n",
      "|A k�sz�v� ember f...|L�nyarcok t�k�rbe...|             1|A k�sz�v� ember f...|   24|\n",
      "|A k�sz�v� ember f...|Gyalog a mennyors...|             8|A k�sz�v� ember f...|   24|\n",
      "|A k�sz�v� ember f...|Mad�ch: Egy ember...|             1|A k�sz�v� ember f...|   24|\n",
      "+--------------------+--------------------+--------------+--------------------+-----+\n",
      "only showing top 5 rows\n",
      "\n"
     ]
    }
   ],
   "source": [
    "pairs_1.show(5)"
   ]
  },
  {
   "cell_type": "code",
   "execution_count": 26,
   "metadata": {
    "collapsed": true
   },
   "outputs": [],
   "source": [
    "# calculate Jaccard Index\n",
    "pairs_weight = pairs.withColumn(\"Weight\",F.col(\"IntersectCount\") / (F.col(\"Count1\")+F.col(\"Count2\")-F.col(\"IntersectCount\")) )"
   ]
  },
  {
   "cell_type": "code",
   "execution_count": 27,
   "metadata": {
    "collapsed": false
   },
   "outputs": [
    {
     "name": "stdout",
     "output_type": "stream",
     "text": [
      "root\n",
      " |-- Movie1: string (nullable = true)\n",
      " |-- Movie2: string (nullable = true)\n",
      " |-- IntersectCount: integer (nullable = true)\n",
      " |-- Count1: integer (nullable = false)\n",
      " |-- id1: long (nullable = false)\n",
      " |-- Count2: integer (nullable = false)\n",
      " |-- id2: long (nullable = false)\n",
      " |-- Weight: double (nullable = true)\n",
      "\n"
     ]
    }
   ],
   "source": [
    "pairs_weight.printSchema()"
   ]
  },
  {
   "cell_type": "code",
   "execution_count": 28,
   "metadata": {
    "collapsed": true
   },
   "outputs": [],
   "source": [
    "pairs_weight = pairs_weight.select(\"id1\",\"id2\",\"Weight\")"
   ]
  },
  {
   "cell_type": "code",
   "execution_count": 29,
   "metadata": {
    "collapsed": false
   },
   "outputs": [],
   "source": [
    "pairs_weight.write.csv(\"movie_pairs\",sep=\" \")"
   ]
  },
  {
   "cell_type": "code",
   "execution_count": 30,
   "metadata": {
    "collapsed": false
   },
   "outputs": [
    {
     "data": {
      "text/plain": [
       "0"
      ]
     },
     "execution_count": 30,
     "metadata": {},
     "output_type": "execute_result"
    }
   ],
   "source": [
    "os.system(\"cat /Users/AlChen/Desktop/EE232E_proj2/project_2_data/movie_pairs/p* > /Users/AlChen/Desktop/EE232E_proj2/project_2_data/movie_pairs/movie_pairs.csv\")"
   ]
  }
 ],
 "metadata": {
  "anaconda-cloud": {},
  "kernelspec": {
   "display_name": "Python [conda root]",
   "language": "python",
   "name": "conda-root-py"
  },
  "language_info": {
   "codemirror_mode": {
    "name": "ipython",
    "version": 2
   },
   "file_extension": ".py",
   "mimetype": "text/x-python",
   "name": "python",
   "nbconvert_exporter": "python",
   "pygments_lexer": "ipython2",
   "version": "2.7.12"
  }
 },
 "nbformat": 4,
 "nbformat_minor": 1
}
